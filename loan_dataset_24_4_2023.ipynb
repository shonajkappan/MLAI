{
  "cells": [
    {
      "cell_type": "code",
      "execution_count": 2,
      "metadata": {
        "colab": {
          "base_uri": "https://localhost:8080/",
          "height": 522
        },
        "id": "Lg6_XA06fFSv",
        "outputId": "d54f0f4b-3805-456c-a92c-7f0f2761d1e6"
      },
      "outputs": [
        {
          "data": {
            "text/html": [
              "\n",
              "  <div id=\"df-b57140f0-e57d-49b0-bca8-1ef1db87ed1b\">\n",
              "    <div class=\"colab-df-container\">\n",
              "      <div>\n",
              "<style scoped>\n",
              "    .dataframe tbody tr th:only-of-type {\n",
              "        vertical-align: middle;\n",
              "    }\n",
              "\n",
              "    .dataframe tbody tr th {\n",
              "        vertical-align: top;\n",
              "    }\n",
              "\n",
              "    .dataframe thead th {\n",
              "        text-align: right;\n",
              "    }\n",
              "</style>\n",
              "<table border=\"1\" class=\"dataframe\">\n",
              "  <thead>\n",
              "    <tr style=\"text-align: right;\">\n",
              "      <th></th>\n",
              "      <th>loan_id</th>\n",
              "      <th>source</th>\n",
              "      <th>financial_institution</th>\n",
              "      <th>interest_rate</th>\n",
              "      <th>unpaid_principal_bal</th>\n",
              "      <th>loan_term</th>\n",
              "      <th>origination_date</th>\n",
              "      <th>first_payment_date</th>\n",
              "      <th>loan_to_value</th>\n",
              "      <th>number_of_borrowers</th>\n",
              "      <th>...</th>\n",
              "      <th>m4</th>\n",
              "      <th>m5</th>\n",
              "      <th>m6</th>\n",
              "      <th>m7</th>\n",
              "      <th>m8</th>\n",
              "      <th>m9</th>\n",
              "      <th>m10</th>\n",
              "      <th>m11</th>\n",
              "      <th>m12</th>\n",
              "      <th>m13</th>\n",
              "    </tr>\n",
              "  </thead>\n",
              "  <tbody>\n",
              "    <tr>\n",
              "      <th>0</th>\n",
              "      <td>2.680550e+11</td>\n",
              "      <td>Z</td>\n",
              "      <td>Turner, Baldwin and Rhodes</td>\n",
              "      <td>4.250</td>\n",
              "      <td>214000.0</td>\n",
              "      <td>360.0</td>\n",
              "      <td>01-03-2012</td>\n",
              "      <td>May-12</td>\n",
              "      <td>95.0</td>\n",
              "      <td>1.0</td>\n",
              "      <td>...</td>\n",
              "      <td>0.0</td>\n",
              "      <td>0.0</td>\n",
              "      <td>0.0</td>\n",
              "      <td>1.0</td>\n",
              "      <td>0.0</td>\n",
              "      <td>0.0</td>\n",
              "      <td>0.0</td>\n",
              "      <td>0.0</td>\n",
              "      <td>0.0</td>\n",
              "      <td>1.0</td>\n",
              "    </tr>\n",
              "    <tr>\n",
              "      <th>1</th>\n",
              "      <td>6.728320e+11</td>\n",
              "      <td>Y</td>\n",
              "      <td>Swanson, Newton and Miller</td>\n",
              "      <td>4.875</td>\n",
              "      <td>144000.0</td>\n",
              "      <td>360.0</td>\n",
              "      <td>01-01-2012</td>\n",
              "      <td>Mar-12</td>\n",
              "      <td>72.0</td>\n",
              "      <td>1.0</td>\n",
              "      <td>...</td>\n",
              "      <td>0.0</td>\n",
              "      <td>0.0</td>\n",
              "      <td>0.0</td>\n",
              "      <td>0.0</td>\n",
              "      <td>0.0</td>\n",
              "      <td>0.0</td>\n",
              "      <td>0.0</td>\n",
              "      <td>1.0</td>\n",
              "      <td>0.0</td>\n",
              "      <td>1.0</td>\n",
              "    </tr>\n",
              "    <tr>\n",
              "      <th>2</th>\n",
              "      <td>7.425150e+11</td>\n",
              "      <td>Z</td>\n",
              "      <td>Thornton-Davis</td>\n",
              "      <td>3.250</td>\n",
              "      <td>366000.0</td>\n",
              "      <td>180.0</td>\n",
              "      <td>01-01-2012</td>\n",
              "      <td>Mar-12</td>\n",
              "      <td>49.0</td>\n",
              "      <td>1.0</td>\n",
              "      <td>...</td>\n",
              "      <td>0.0</td>\n",
              "      <td>0.0</td>\n",
              "      <td>0.0</td>\n",
              "      <td>0.0</td>\n",
              "      <td>0.0</td>\n",
              "      <td>0.0</td>\n",
              "      <td>0.0</td>\n",
              "      <td>0.0</td>\n",
              "      <td>0.0</td>\n",
              "      <td>1.0</td>\n",
              "    </tr>\n",
              "    <tr>\n",
              "      <th>3</th>\n",
              "      <td>6.013860e+11</td>\n",
              "      <td>X</td>\n",
              "      <td>OTHER</td>\n",
              "      <td>4.750</td>\n",
              "      <td>135000.0</td>\n",
              "      <td>360.0</td>\n",
              "      <td>01-02-2012</td>\n",
              "      <td>Apr-12</td>\n",
              "      <td>46.0</td>\n",
              "      <td>2.0</td>\n",
              "      <td>...</td>\n",
              "      <td>0.0</td>\n",
              "      <td>0.0</td>\n",
              "      <td>0.0</td>\n",
              "      <td>0.0</td>\n",
              "      <td>0.0</td>\n",
              "      <td>1.0</td>\n",
              "      <td>1.0</td>\n",
              "      <td>1.0</td>\n",
              "      <td>1.0</td>\n",
              "      <td>1.0</td>\n",
              "    </tr>\n",
              "    <tr>\n",
              "      <th>4</th>\n",
              "      <td>2.738700e+11</td>\n",
              "      <td>X</td>\n",
              "      <td>OTHER</td>\n",
              "      <td>4.750</td>\n",
              "      <td>124000.0</td>\n",
              "      <td>360.0</td>\n",
              "      <td>01-02-2012</td>\n",
              "      <td>Apr-12</td>\n",
              "      <td>80.0</td>\n",
              "      <td>1.0</td>\n",
              "      <td>...</td>\n",
              "      <td>3.0</td>\n",
              "      <td>4.0</td>\n",
              "      <td>5.0</td>\n",
              "      <td>6.0</td>\n",
              "      <td>7.0</td>\n",
              "      <td>8.0</td>\n",
              "      <td>9.0</td>\n",
              "      <td>10.0</td>\n",
              "      <td>11.0</td>\n",
              "      <td>1.0</td>\n",
              "    </tr>\n",
              "    <tr>\n",
              "      <th>...</th>\n",
              "      <td>...</td>\n",
              "      <td>...</td>\n",
              "      <td>...</td>\n",
              "      <td>...</td>\n",
              "      <td>...</td>\n",
              "      <td>...</td>\n",
              "      <td>...</td>\n",
              "      <td>...</td>\n",
              "      <td>...</td>\n",
              "      <td>...</td>\n",
              "      <td>...</td>\n",
              "      <td>...</td>\n",
              "      <td>...</td>\n",
              "      <td>...</td>\n",
              "      <td>...</td>\n",
              "      <td>...</td>\n",
              "      <td>...</td>\n",
              "      <td>...</td>\n",
              "      <td>...</td>\n",
              "      <td>...</td>\n",
              "      <td>...</td>\n",
              "    </tr>\n",
              "    <tr>\n",
              "      <th>94225</th>\n",
              "      <td>9.084070e+11</td>\n",
              "      <td>X</td>\n",
              "      <td>OTHER</td>\n",
              "      <td>4.375</td>\n",
              "      <td>318000.0</td>\n",
              "      <td>360.0</td>\n",
              "      <td>01-03-2012</td>\n",
              "      <td>May-12</td>\n",
              "      <td>95.0</td>\n",
              "      <td>1.0</td>\n",
              "      <td>...</td>\n",
              "      <td>0.0</td>\n",
              "      <td>0.0</td>\n",
              "      <td>0.0</td>\n",
              "      <td>0.0</td>\n",
              "      <td>0.0</td>\n",
              "      <td>0.0</td>\n",
              "      <td>0.0</td>\n",
              "      <td>0.0</td>\n",
              "      <td>0.0</td>\n",
              "      <td>0.0</td>\n",
              "    </tr>\n",
              "    <tr>\n",
              "      <th>94226</th>\n",
              "      <td>3.700470e+11</td>\n",
              "      <td>X</td>\n",
              "      <td>Browning-Hart</td>\n",
              "      <td>4.375</td>\n",
              "      <td>530000.0</td>\n",
              "      <td>360.0</td>\n",
              "      <td>01-01-2012</td>\n",
              "      <td>Mar-12</td>\n",
              "      <td>79.0</td>\n",
              "      <td>1.0</td>\n",
              "      <td>...</td>\n",
              "      <td>0.0</td>\n",
              "      <td>0.0</td>\n",
              "      <td>0.0</td>\n",
              "      <td>0.0</td>\n",
              "      <td>0.0</td>\n",
              "      <td>0.0</td>\n",
              "      <td>0.0</td>\n",
              "      <td>0.0</td>\n",
              "      <td>0.0</td>\n",
              "      <td>0.0</td>\n",
              "    </tr>\n",
              "    <tr>\n",
              "      <th>94227</th>\n",
              "      <td>3.970580e+11</td>\n",
              "      <td>X</td>\n",
              "      <td>OTHER</td>\n",
              "      <td>3.875</td>\n",
              "      <td>232000.0</td>\n",
              "      <td>360.0</td>\n",
              "      <td>01-03-2012</td>\n",
              "      <td>May-12</td>\n",
              "      <td>80.0</td>\n",
              "      <td>2.0</td>\n",
              "      <td>...</td>\n",
              "      <td>0.0</td>\n",
              "      <td>0.0</td>\n",
              "      <td>0.0</td>\n",
              "      <td>0.0</td>\n",
              "      <td>0.0</td>\n",
              "      <td>0.0</td>\n",
              "      <td>0.0</td>\n",
              "      <td>0.0</td>\n",
              "      <td>0.0</td>\n",
              "      <td>0.0</td>\n",
              "    </tr>\n",
              "    <tr>\n",
              "      <th>94228</th>\n",
              "      <td>8.733380e+11</td>\n",
              "      <td>Y</td>\n",
              "      <td>Edwards-Hoffman</td>\n",
              "      <td>3.875</td>\n",
              "      <td>250000.0</td>\n",
              "      <td>360.0</td>\n",
              "      <td>01-01-2012</td>\n",
              "      <td>Mar-12</td>\n",
              "      <td>63.0</td>\n",
              "      <td>1.0</td>\n",
              "      <td>...</td>\n",
              "      <td>0.0</td>\n",
              "      <td>0.0</td>\n",
              "      <td>0.0</td>\n",
              "      <td>0.0</td>\n",
              "      <td>0.0</td>\n",
              "      <td>0.0</td>\n",
              "      <td>0.0</td>\n",
              "      <td>0.0</td>\n",
              "      <td>0.0</td>\n",
              "      <td>0.0</td>\n",
              "    </tr>\n",
              "    <tr>\n",
              "      <th>94229</th>\n",
              "      <td>7.500000e+00</td>\n",
              "      <td>NaN</td>\n",
              "      <td>NaN</td>\n",
              "      <td>NaN</td>\n",
              "      <td>NaN</td>\n",
              "      <td>NaN</td>\n",
              "      <td>NaN</td>\n",
              "      <td>NaN</td>\n",
              "      <td>NaN</td>\n",
              "      <td>NaN</td>\n",
              "      <td>...</td>\n",
              "      <td>NaN</td>\n",
              "      <td>NaN</td>\n",
              "      <td>NaN</td>\n",
              "      <td>NaN</td>\n",
              "      <td>NaN</td>\n",
              "      <td>NaN</td>\n",
              "      <td>NaN</td>\n",
              "      <td>NaN</td>\n",
              "      <td>NaN</td>\n",
              "      <td>NaN</td>\n",
              "    </tr>\n",
              "  </tbody>\n",
              "</table>\n",
              "<p>94230 rows × 29 columns</p>\n",
              "</div>\n",
              "      <button class=\"colab-df-convert\" onclick=\"convertToInteractive('df-b57140f0-e57d-49b0-bca8-1ef1db87ed1b')\"\n",
              "              title=\"Convert this dataframe to an interactive table.\"\n",
              "              style=\"display:none;\">\n",
              "        \n",
              "  <svg xmlns=\"http://www.w3.org/2000/svg\" height=\"24px\"viewBox=\"0 0 24 24\"\n",
              "       width=\"24px\">\n",
              "    <path d=\"M0 0h24v24H0V0z\" fill=\"none\"/>\n",
              "    <path d=\"M18.56 5.44l.94 2.06.94-2.06 2.06-.94-2.06-.94-.94-2.06-.94 2.06-2.06.94zm-11 1L8.5 8.5l.94-2.06 2.06-.94-2.06-.94L8.5 2.5l-.94 2.06-2.06.94zm10 10l.94 2.06.94-2.06 2.06-.94-2.06-.94-.94-2.06-.94 2.06-2.06.94z\"/><path d=\"M17.41 7.96l-1.37-1.37c-.4-.4-.92-.59-1.43-.59-.52 0-1.04.2-1.43.59L10.3 9.45l-7.72 7.72c-.78.78-.78 2.05 0 2.83L4 21.41c.39.39.9.59 1.41.59.51 0 1.02-.2 1.41-.59l7.78-7.78 2.81-2.81c.8-.78.8-2.07 0-2.86zM5.41 20L4 18.59l7.72-7.72 1.47 1.35L5.41 20z\"/>\n",
              "  </svg>\n",
              "      </button>\n",
              "      \n",
              "  <style>\n",
              "    .colab-df-container {\n",
              "      display:flex;\n",
              "      flex-wrap:wrap;\n",
              "      gap: 12px;\n",
              "    }\n",
              "\n",
              "    .colab-df-convert {\n",
              "      background-color: #E8F0FE;\n",
              "      border: none;\n",
              "      border-radius: 50%;\n",
              "      cursor: pointer;\n",
              "      display: none;\n",
              "      fill: #1967D2;\n",
              "      height: 32px;\n",
              "      padding: 0 0 0 0;\n",
              "      width: 32px;\n",
              "    }\n",
              "\n",
              "    .colab-df-convert:hover {\n",
              "      background-color: #E2EBFA;\n",
              "      box-shadow: 0px 1px 2px rgba(60, 64, 67, 0.3), 0px 1px 3px 1px rgba(60, 64, 67, 0.15);\n",
              "      fill: #174EA6;\n",
              "    }\n",
              "\n",
              "    [theme=dark] .colab-df-convert {\n",
              "      background-color: #3B4455;\n",
              "      fill: #D2E3FC;\n",
              "    }\n",
              "\n",
              "    [theme=dark] .colab-df-convert:hover {\n",
              "      background-color: #434B5C;\n",
              "      box-shadow: 0px 1px 3px 1px rgba(0, 0, 0, 0.15);\n",
              "      filter: drop-shadow(0px 1px 2px rgba(0, 0, 0, 0.3));\n",
              "      fill: #FFFFFF;\n",
              "    }\n",
              "  </style>\n",
              "\n",
              "      <script>\n",
              "        const buttonEl =\n",
              "          document.querySelector('#df-b57140f0-e57d-49b0-bca8-1ef1db87ed1b button.colab-df-convert');\n",
              "        buttonEl.style.display =\n",
              "          google.colab.kernel.accessAllowed ? 'block' : 'none';\n",
              "\n",
              "        async function convertToInteractive(key) {\n",
              "          const element = document.querySelector('#df-b57140f0-e57d-49b0-bca8-1ef1db87ed1b');\n",
              "          const dataTable =\n",
              "            await google.colab.kernel.invokeFunction('convertToInteractive',\n",
              "                                                     [key], {});\n",
              "          if (!dataTable) return;\n",
              "\n",
              "          const docLinkHtml = 'Like what you see? Visit the ' +\n",
              "            '<a target=\"_blank\" href=https://colab.research.google.com/notebooks/data_table.ipynb>data table notebook</a>'\n",
              "            + ' to learn more about interactive tables.';\n",
              "          element.innerHTML = '';\n",
              "          dataTable['output_type'] = 'display_data';\n",
              "          await google.colab.output.renderOutput(dataTable, element);\n",
              "          const docLink = document.createElement('div');\n",
              "          docLink.innerHTML = docLinkHtml;\n",
              "          element.appendChild(docLink);\n",
              "        }\n",
              "      </script>\n",
              "    </div>\n",
              "  </div>\n",
              "  "
            ],
            "text/plain": [
              "            loan_id source       financial_institution  interest_rate  \\\n",
              "0      2.680550e+11      Z  Turner, Baldwin and Rhodes          4.250   \n",
              "1      6.728320e+11      Y  Swanson, Newton and Miller          4.875   \n",
              "2      7.425150e+11      Z              Thornton-Davis          3.250   \n",
              "3      6.013860e+11      X                       OTHER          4.750   \n",
              "4      2.738700e+11      X                       OTHER          4.750   \n",
              "...             ...    ...                         ...            ...   \n",
              "94225  9.084070e+11      X                       OTHER          4.375   \n",
              "94226  3.700470e+11      X               Browning-Hart          4.375   \n",
              "94227  3.970580e+11      X                       OTHER          3.875   \n",
              "94228  8.733380e+11      Y             Edwards-Hoffman          3.875   \n",
              "94229  7.500000e+00    NaN                         NaN            NaN   \n",
              "\n",
              "       unpaid_principal_bal  loan_term origination_date first_payment_date  \\\n",
              "0                  214000.0      360.0       01-03-2012             May-12   \n",
              "1                  144000.0      360.0       01-01-2012             Mar-12   \n",
              "2                  366000.0      180.0       01-01-2012             Mar-12   \n",
              "3                  135000.0      360.0       01-02-2012             Apr-12   \n",
              "4                  124000.0      360.0       01-02-2012             Apr-12   \n",
              "...                     ...        ...              ...                ...   \n",
              "94225              318000.0      360.0       01-03-2012             May-12   \n",
              "94226              530000.0      360.0       01-01-2012             Mar-12   \n",
              "94227              232000.0      360.0       01-03-2012             May-12   \n",
              "94228              250000.0      360.0       01-01-2012             Mar-12   \n",
              "94229                   NaN        NaN              NaN                NaN   \n",
              "\n",
              "       loan_to_value  number_of_borrowers  ...   m4   m5   m6   m7   m8   m9  \\\n",
              "0               95.0                  1.0  ...  0.0  0.0  0.0  1.0  0.0  0.0   \n",
              "1               72.0                  1.0  ...  0.0  0.0  0.0  0.0  0.0  0.0   \n",
              "2               49.0                  1.0  ...  0.0  0.0  0.0  0.0  0.0  0.0   \n",
              "3               46.0                  2.0  ...  0.0  0.0  0.0  0.0  0.0  1.0   \n",
              "4               80.0                  1.0  ...  3.0  4.0  5.0  6.0  7.0  8.0   \n",
              "...              ...                  ...  ...  ...  ...  ...  ...  ...  ...   \n",
              "94225           95.0                  1.0  ...  0.0  0.0  0.0  0.0  0.0  0.0   \n",
              "94226           79.0                  1.0  ...  0.0  0.0  0.0  0.0  0.0  0.0   \n",
              "94227           80.0                  2.0  ...  0.0  0.0  0.0  0.0  0.0  0.0   \n",
              "94228           63.0                  1.0  ...  0.0  0.0  0.0  0.0  0.0  0.0   \n",
              "94229            NaN                  NaN  ...  NaN  NaN  NaN  NaN  NaN  NaN   \n",
              "\n",
              "       m10   m11   m12  m13  \n",
              "0      0.0   0.0   0.0  1.0  \n",
              "1      0.0   1.0   0.0  1.0  \n",
              "2      0.0   0.0   0.0  1.0  \n",
              "3      1.0   1.0   1.0  1.0  \n",
              "4      9.0  10.0  11.0  1.0  \n",
              "...    ...   ...   ...  ...  \n",
              "94225  0.0   0.0   0.0  0.0  \n",
              "94226  0.0   0.0   0.0  0.0  \n",
              "94227  0.0   0.0   0.0  0.0  \n",
              "94228  0.0   0.0   0.0  0.0  \n",
              "94229  NaN   NaN   NaN  NaN  \n",
              "\n",
              "[94230 rows x 29 columns]"
            ]
          },
          "execution_count": 2,
          "metadata": {},
          "output_type": "execute_result"
        }
      ],
      "source": [
        "import numpy as np\n",
        "import pandas as pd\n",
        "data=pd.read_csv('/content/loan_dataset.csv')\n",
        "data"
      ]
    },
    {
      "cell_type": "code",
      "execution_count": 3,
      "metadata": {
        "colab": {
          "base_uri": "https://localhost:8080/",
          "height": 334
        },
        "id": "pGP7xHxUiFHs",
        "outputId": "d5679914-8542-46b2-b4f9-ce8aeecd9f05"
      },
      "outputs": [
        {
          "data": {
            "text/html": [
              "\n",
              "  <div id=\"df-fbd2e2a6-a57d-4161-8162-b2a2b16f21b9\">\n",
              "    <div class=\"colab-df-container\">\n",
              "      <div>\n",
              "<style scoped>\n",
              "    .dataframe tbody tr th:only-of-type {\n",
              "        vertical-align: middle;\n",
              "    }\n",
              "\n",
              "    .dataframe tbody tr th {\n",
              "        vertical-align: top;\n",
              "    }\n",
              "\n",
              "    .dataframe thead th {\n",
              "        text-align: right;\n",
              "    }\n",
              "</style>\n",
              "<table border=\"1\" class=\"dataframe\">\n",
              "  <thead>\n",
              "    <tr style=\"text-align: right;\">\n",
              "      <th></th>\n",
              "      <th>loan_id</th>\n",
              "      <th>source</th>\n",
              "      <th>financial_institution</th>\n",
              "      <th>interest_rate</th>\n",
              "      <th>unpaid_principal_bal</th>\n",
              "      <th>loan_term</th>\n",
              "      <th>origination_date</th>\n",
              "      <th>first_payment_date</th>\n",
              "      <th>loan_to_value</th>\n",
              "      <th>number_of_borrowers</th>\n",
              "      <th>...</th>\n",
              "      <th>m4</th>\n",
              "      <th>m5</th>\n",
              "      <th>m6</th>\n",
              "      <th>m7</th>\n",
              "      <th>m8</th>\n",
              "      <th>m9</th>\n",
              "      <th>m10</th>\n",
              "      <th>m11</th>\n",
              "      <th>m12</th>\n",
              "      <th>m13</th>\n",
              "    </tr>\n",
              "  </thead>\n",
              "  <tbody>\n",
              "    <tr>\n",
              "      <th>0</th>\n",
              "      <td>2.680550e+11</td>\n",
              "      <td>Z</td>\n",
              "      <td>Turner, Baldwin and Rhodes</td>\n",
              "      <td>4.250</td>\n",
              "      <td>214000.0</td>\n",
              "      <td>360.0</td>\n",
              "      <td>01-03-2012</td>\n",
              "      <td>May-12</td>\n",
              "      <td>95.0</td>\n",
              "      <td>1.0</td>\n",
              "      <td>...</td>\n",
              "      <td>0.0</td>\n",
              "      <td>0.0</td>\n",
              "      <td>0.0</td>\n",
              "      <td>1.0</td>\n",
              "      <td>0.0</td>\n",
              "      <td>0.0</td>\n",
              "      <td>0.0</td>\n",
              "      <td>0.0</td>\n",
              "      <td>0.0</td>\n",
              "      <td>1.0</td>\n",
              "    </tr>\n",
              "    <tr>\n",
              "      <th>1</th>\n",
              "      <td>6.728320e+11</td>\n",
              "      <td>Y</td>\n",
              "      <td>Swanson, Newton and Miller</td>\n",
              "      <td>4.875</td>\n",
              "      <td>144000.0</td>\n",
              "      <td>360.0</td>\n",
              "      <td>01-01-2012</td>\n",
              "      <td>Mar-12</td>\n",
              "      <td>72.0</td>\n",
              "      <td>1.0</td>\n",
              "      <td>...</td>\n",
              "      <td>0.0</td>\n",
              "      <td>0.0</td>\n",
              "      <td>0.0</td>\n",
              "      <td>0.0</td>\n",
              "      <td>0.0</td>\n",
              "      <td>0.0</td>\n",
              "      <td>0.0</td>\n",
              "      <td>1.0</td>\n",
              "      <td>0.0</td>\n",
              "      <td>1.0</td>\n",
              "    </tr>\n",
              "    <tr>\n",
              "      <th>2</th>\n",
              "      <td>7.425150e+11</td>\n",
              "      <td>Z</td>\n",
              "      <td>Thornton-Davis</td>\n",
              "      <td>3.250</td>\n",
              "      <td>366000.0</td>\n",
              "      <td>180.0</td>\n",
              "      <td>01-01-2012</td>\n",
              "      <td>Mar-12</td>\n",
              "      <td>49.0</td>\n",
              "      <td>1.0</td>\n",
              "      <td>...</td>\n",
              "      <td>0.0</td>\n",
              "      <td>0.0</td>\n",
              "      <td>0.0</td>\n",
              "      <td>0.0</td>\n",
              "      <td>0.0</td>\n",
              "      <td>0.0</td>\n",
              "      <td>0.0</td>\n",
              "      <td>0.0</td>\n",
              "      <td>0.0</td>\n",
              "      <td>1.0</td>\n",
              "    </tr>\n",
              "    <tr>\n",
              "      <th>3</th>\n",
              "      <td>6.013860e+11</td>\n",
              "      <td>X</td>\n",
              "      <td>OTHER</td>\n",
              "      <td>4.750</td>\n",
              "      <td>135000.0</td>\n",
              "      <td>360.0</td>\n",
              "      <td>01-02-2012</td>\n",
              "      <td>Apr-12</td>\n",
              "      <td>46.0</td>\n",
              "      <td>2.0</td>\n",
              "      <td>...</td>\n",
              "      <td>0.0</td>\n",
              "      <td>0.0</td>\n",
              "      <td>0.0</td>\n",
              "      <td>0.0</td>\n",
              "      <td>0.0</td>\n",
              "      <td>1.0</td>\n",
              "      <td>1.0</td>\n",
              "      <td>1.0</td>\n",
              "      <td>1.0</td>\n",
              "      <td>1.0</td>\n",
              "    </tr>\n",
              "    <tr>\n",
              "      <th>4</th>\n",
              "      <td>2.738700e+11</td>\n",
              "      <td>X</td>\n",
              "      <td>OTHER</td>\n",
              "      <td>4.750</td>\n",
              "      <td>124000.0</td>\n",
              "      <td>360.0</td>\n",
              "      <td>01-02-2012</td>\n",
              "      <td>Apr-12</td>\n",
              "      <td>80.0</td>\n",
              "      <td>1.0</td>\n",
              "      <td>...</td>\n",
              "      <td>3.0</td>\n",
              "      <td>4.0</td>\n",
              "      <td>5.0</td>\n",
              "      <td>6.0</td>\n",
              "      <td>7.0</td>\n",
              "      <td>8.0</td>\n",
              "      <td>9.0</td>\n",
              "      <td>10.0</td>\n",
              "      <td>11.0</td>\n",
              "      <td>1.0</td>\n",
              "    </tr>\n",
              "  </tbody>\n",
              "</table>\n",
              "<p>5 rows × 29 columns</p>\n",
              "</div>\n",
              "      <button class=\"colab-df-convert\" onclick=\"convertToInteractive('df-fbd2e2a6-a57d-4161-8162-b2a2b16f21b9')\"\n",
              "              title=\"Convert this dataframe to an interactive table.\"\n",
              "              style=\"display:none;\">\n",
              "        \n",
              "  <svg xmlns=\"http://www.w3.org/2000/svg\" height=\"24px\"viewBox=\"0 0 24 24\"\n",
              "       width=\"24px\">\n",
              "    <path d=\"M0 0h24v24H0V0z\" fill=\"none\"/>\n",
              "    <path d=\"M18.56 5.44l.94 2.06.94-2.06 2.06-.94-2.06-.94-.94-2.06-.94 2.06-2.06.94zm-11 1L8.5 8.5l.94-2.06 2.06-.94-2.06-.94L8.5 2.5l-.94 2.06-2.06.94zm10 10l.94 2.06.94-2.06 2.06-.94-2.06-.94-.94-2.06-.94 2.06-2.06.94z\"/><path d=\"M17.41 7.96l-1.37-1.37c-.4-.4-.92-.59-1.43-.59-.52 0-1.04.2-1.43.59L10.3 9.45l-7.72 7.72c-.78.78-.78 2.05 0 2.83L4 21.41c.39.39.9.59 1.41.59.51 0 1.02-.2 1.41-.59l7.78-7.78 2.81-2.81c.8-.78.8-2.07 0-2.86zM5.41 20L4 18.59l7.72-7.72 1.47 1.35L5.41 20z\"/>\n",
              "  </svg>\n",
              "      </button>\n",
              "      \n",
              "  <style>\n",
              "    .colab-df-container {\n",
              "      display:flex;\n",
              "      flex-wrap:wrap;\n",
              "      gap: 12px;\n",
              "    }\n",
              "\n",
              "    .colab-df-convert {\n",
              "      background-color: #E8F0FE;\n",
              "      border: none;\n",
              "      border-radius: 50%;\n",
              "      cursor: pointer;\n",
              "      display: none;\n",
              "      fill: #1967D2;\n",
              "      height: 32px;\n",
              "      padding: 0 0 0 0;\n",
              "      width: 32px;\n",
              "    }\n",
              "\n",
              "    .colab-df-convert:hover {\n",
              "      background-color: #E2EBFA;\n",
              "      box-shadow: 0px 1px 2px rgba(60, 64, 67, 0.3), 0px 1px 3px 1px rgba(60, 64, 67, 0.15);\n",
              "      fill: #174EA6;\n",
              "    }\n",
              "\n",
              "    [theme=dark] .colab-df-convert {\n",
              "      background-color: #3B4455;\n",
              "      fill: #D2E3FC;\n",
              "    }\n",
              "\n",
              "    [theme=dark] .colab-df-convert:hover {\n",
              "      background-color: #434B5C;\n",
              "      box-shadow: 0px 1px 3px 1px rgba(0, 0, 0, 0.15);\n",
              "      filter: drop-shadow(0px 1px 2px rgba(0, 0, 0, 0.3));\n",
              "      fill: #FFFFFF;\n",
              "    }\n",
              "  </style>\n",
              "\n",
              "      <script>\n",
              "        const buttonEl =\n",
              "          document.querySelector('#df-fbd2e2a6-a57d-4161-8162-b2a2b16f21b9 button.colab-df-convert');\n",
              "        buttonEl.style.display =\n",
              "          google.colab.kernel.accessAllowed ? 'block' : 'none';\n",
              "\n",
              "        async function convertToInteractive(key) {\n",
              "          const element = document.querySelector('#df-fbd2e2a6-a57d-4161-8162-b2a2b16f21b9');\n",
              "          const dataTable =\n",
              "            await google.colab.kernel.invokeFunction('convertToInteractive',\n",
              "                                                     [key], {});\n",
              "          if (!dataTable) return;\n",
              "\n",
              "          const docLinkHtml = 'Like what you see? Visit the ' +\n",
              "            '<a target=\"_blank\" href=https://colab.research.google.com/notebooks/data_table.ipynb>data table notebook</a>'\n",
              "            + ' to learn more about interactive tables.';\n",
              "          element.innerHTML = '';\n",
              "          dataTable['output_type'] = 'display_data';\n",
              "          await google.colab.output.renderOutput(dataTable, element);\n",
              "          const docLink = document.createElement('div');\n",
              "          docLink.innerHTML = docLinkHtml;\n",
              "          element.appendChild(docLink);\n",
              "        }\n",
              "      </script>\n",
              "    </div>\n",
              "  </div>\n",
              "  "
            ],
            "text/plain": [
              "        loan_id source       financial_institution  interest_rate  \\\n",
              "0  2.680550e+11      Z  Turner, Baldwin and Rhodes          4.250   \n",
              "1  6.728320e+11      Y  Swanson, Newton and Miller          4.875   \n",
              "2  7.425150e+11      Z              Thornton-Davis          3.250   \n",
              "3  6.013860e+11      X                       OTHER          4.750   \n",
              "4  2.738700e+11      X                       OTHER          4.750   \n",
              "\n",
              "   unpaid_principal_bal  loan_term origination_date first_payment_date  \\\n",
              "0              214000.0      360.0       01-03-2012             May-12   \n",
              "1              144000.0      360.0       01-01-2012             Mar-12   \n",
              "2              366000.0      180.0       01-01-2012             Mar-12   \n",
              "3              135000.0      360.0       01-02-2012             Apr-12   \n",
              "4              124000.0      360.0       01-02-2012             Apr-12   \n",
              "\n",
              "   loan_to_value  number_of_borrowers  ...   m4   m5   m6   m7   m8   m9  m10  \\\n",
              "0           95.0                  1.0  ...  0.0  0.0  0.0  1.0  0.0  0.0  0.0   \n",
              "1           72.0                  1.0  ...  0.0  0.0  0.0  0.0  0.0  0.0  0.0   \n",
              "2           49.0                  1.0  ...  0.0  0.0  0.0  0.0  0.0  0.0  0.0   \n",
              "3           46.0                  2.0  ...  0.0  0.0  0.0  0.0  0.0  1.0  1.0   \n",
              "4           80.0                  1.0  ...  3.0  4.0  5.0  6.0  7.0  8.0  9.0   \n",
              "\n",
              "    m11   m12  m13  \n",
              "0   0.0   0.0  1.0  \n",
              "1   1.0   0.0  1.0  \n",
              "2   0.0   0.0  1.0  \n",
              "3   1.0   1.0  1.0  \n",
              "4  10.0  11.0  1.0  \n",
              "\n",
              "[5 rows x 29 columns]"
            ]
          },
          "execution_count": 3,
          "metadata": {},
          "output_type": "execute_result"
        }
      ],
      "source": [
        "data.head()"
      ]
    },
    {
      "cell_type": "code",
      "execution_count": 4,
      "metadata": {
        "colab": {
          "base_uri": "https://localhost:8080/",
          "height": 299
        },
        "id": "LnhMqwmSiI2k",
        "outputId": "6bc14b80-22c8-4406-f9af-58b6cc9f7287"
      },
      "outputs": [
        {
          "data": {
            "text/html": [
              "\n",
              "  <div id=\"df-7aa99733-4939-491a-a76a-de895f9e62d9\">\n",
              "    <div class=\"colab-df-container\">\n",
              "      <div>\n",
              "<style scoped>\n",
              "    .dataframe tbody tr th:only-of-type {\n",
              "        vertical-align: middle;\n",
              "    }\n",
              "\n",
              "    .dataframe tbody tr th {\n",
              "        vertical-align: top;\n",
              "    }\n",
              "\n",
              "    .dataframe thead th {\n",
              "        text-align: right;\n",
              "    }\n",
              "</style>\n",
              "<table border=\"1\" class=\"dataframe\">\n",
              "  <thead>\n",
              "    <tr style=\"text-align: right;\">\n",
              "      <th></th>\n",
              "      <th>loan_id</th>\n",
              "      <th>source</th>\n",
              "      <th>financial_institution</th>\n",
              "      <th>interest_rate</th>\n",
              "      <th>unpaid_principal_bal</th>\n",
              "      <th>loan_term</th>\n",
              "      <th>origination_date</th>\n",
              "      <th>first_payment_date</th>\n",
              "      <th>loan_to_value</th>\n",
              "      <th>number_of_borrowers</th>\n",
              "      <th>...</th>\n",
              "      <th>m4</th>\n",
              "      <th>m5</th>\n",
              "      <th>m6</th>\n",
              "      <th>m7</th>\n",
              "      <th>m8</th>\n",
              "      <th>m9</th>\n",
              "      <th>m10</th>\n",
              "      <th>m11</th>\n",
              "      <th>m12</th>\n",
              "      <th>m13</th>\n",
              "    </tr>\n",
              "  </thead>\n",
              "  <tbody>\n",
              "    <tr>\n",
              "      <th>94225</th>\n",
              "      <td>9.084070e+11</td>\n",
              "      <td>X</td>\n",
              "      <td>OTHER</td>\n",
              "      <td>4.375</td>\n",
              "      <td>318000.0</td>\n",
              "      <td>360.0</td>\n",
              "      <td>01-03-2012</td>\n",
              "      <td>May-12</td>\n",
              "      <td>95.0</td>\n",
              "      <td>1.0</td>\n",
              "      <td>...</td>\n",
              "      <td>0.0</td>\n",
              "      <td>0.0</td>\n",
              "      <td>0.0</td>\n",
              "      <td>0.0</td>\n",
              "      <td>0.0</td>\n",
              "      <td>0.0</td>\n",
              "      <td>0.0</td>\n",
              "      <td>0.0</td>\n",
              "      <td>0.0</td>\n",
              "      <td>0.0</td>\n",
              "    </tr>\n",
              "    <tr>\n",
              "      <th>94226</th>\n",
              "      <td>3.700470e+11</td>\n",
              "      <td>X</td>\n",
              "      <td>Browning-Hart</td>\n",
              "      <td>4.375</td>\n",
              "      <td>530000.0</td>\n",
              "      <td>360.0</td>\n",
              "      <td>01-01-2012</td>\n",
              "      <td>Mar-12</td>\n",
              "      <td>79.0</td>\n",
              "      <td>1.0</td>\n",
              "      <td>...</td>\n",
              "      <td>0.0</td>\n",
              "      <td>0.0</td>\n",
              "      <td>0.0</td>\n",
              "      <td>0.0</td>\n",
              "      <td>0.0</td>\n",
              "      <td>0.0</td>\n",
              "      <td>0.0</td>\n",
              "      <td>0.0</td>\n",
              "      <td>0.0</td>\n",
              "      <td>0.0</td>\n",
              "    </tr>\n",
              "    <tr>\n",
              "      <th>94227</th>\n",
              "      <td>3.970580e+11</td>\n",
              "      <td>X</td>\n",
              "      <td>OTHER</td>\n",
              "      <td>3.875</td>\n",
              "      <td>232000.0</td>\n",
              "      <td>360.0</td>\n",
              "      <td>01-03-2012</td>\n",
              "      <td>May-12</td>\n",
              "      <td>80.0</td>\n",
              "      <td>2.0</td>\n",
              "      <td>...</td>\n",
              "      <td>0.0</td>\n",
              "      <td>0.0</td>\n",
              "      <td>0.0</td>\n",
              "      <td>0.0</td>\n",
              "      <td>0.0</td>\n",
              "      <td>0.0</td>\n",
              "      <td>0.0</td>\n",
              "      <td>0.0</td>\n",
              "      <td>0.0</td>\n",
              "      <td>0.0</td>\n",
              "    </tr>\n",
              "    <tr>\n",
              "      <th>94228</th>\n",
              "      <td>8.733380e+11</td>\n",
              "      <td>Y</td>\n",
              "      <td>Edwards-Hoffman</td>\n",
              "      <td>3.875</td>\n",
              "      <td>250000.0</td>\n",
              "      <td>360.0</td>\n",
              "      <td>01-01-2012</td>\n",
              "      <td>Mar-12</td>\n",
              "      <td>63.0</td>\n",
              "      <td>1.0</td>\n",
              "      <td>...</td>\n",
              "      <td>0.0</td>\n",
              "      <td>0.0</td>\n",
              "      <td>0.0</td>\n",
              "      <td>0.0</td>\n",
              "      <td>0.0</td>\n",
              "      <td>0.0</td>\n",
              "      <td>0.0</td>\n",
              "      <td>0.0</td>\n",
              "      <td>0.0</td>\n",
              "      <td>0.0</td>\n",
              "    </tr>\n",
              "    <tr>\n",
              "      <th>94229</th>\n",
              "      <td>7.500000e+00</td>\n",
              "      <td>NaN</td>\n",
              "      <td>NaN</td>\n",
              "      <td>NaN</td>\n",
              "      <td>NaN</td>\n",
              "      <td>NaN</td>\n",
              "      <td>NaN</td>\n",
              "      <td>NaN</td>\n",
              "      <td>NaN</td>\n",
              "      <td>NaN</td>\n",
              "      <td>...</td>\n",
              "      <td>NaN</td>\n",
              "      <td>NaN</td>\n",
              "      <td>NaN</td>\n",
              "      <td>NaN</td>\n",
              "      <td>NaN</td>\n",
              "      <td>NaN</td>\n",
              "      <td>NaN</td>\n",
              "      <td>NaN</td>\n",
              "      <td>NaN</td>\n",
              "      <td>NaN</td>\n",
              "    </tr>\n",
              "  </tbody>\n",
              "</table>\n",
              "<p>5 rows × 29 columns</p>\n",
              "</div>\n",
              "      <button class=\"colab-df-convert\" onclick=\"convertToInteractive('df-7aa99733-4939-491a-a76a-de895f9e62d9')\"\n",
              "              title=\"Convert this dataframe to an interactive table.\"\n",
              "              style=\"display:none;\">\n",
              "        \n",
              "  <svg xmlns=\"http://www.w3.org/2000/svg\" height=\"24px\"viewBox=\"0 0 24 24\"\n",
              "       width=\"24px\">\n",
              "    <path d=\"M0 0h24v24H0V0z\" fill=\"none\"/>\n",
              "    <path d=\"M18.56 5.44l.94 2.06.94-2.06 2.06-.94-2.06-.94-.94-2.06-.94 2.06-2.06.94zm-11 1L8.5 8.5l.94-2.06 2.06-.94-2.06-.94L8.5 2.5l-.94 2.06-2.06.94zm10 10l.94 2.06.94-2.06 2.06-.94-2.06-.94-.94-2.06-.94 2.06-2.06.94z\"/><path d=\"M17.41 7.96l-1.37-1.37c-.4-.4-.92-.59-1.43-.59-.52 0-1.04.2-1.43.59L10.3 9.45l-7.72 7.72c-.78.78-.78 2.05 0 2.83L4 21.41c.39.39.9.59 1.41.59.51 0 1.02-.2 1.41-.59l7.78-7.78 2.81-2.81c.8-.78.8-2.07 0-2.86zM5.41 20L4 18.59l7.72-7.72 1.47 1.35L5.41 20z\"/>\n",
              "  </svg>\n",
              "      </button>\n",
              "      \n",
              "  <style>\n",
              "    .colab-df-container {\n",
              "      display:flex;\n",
              "      flex-wrap:wrap;\n",
              "      gap: 12px;\n",
              "    }\n",
              "\n",
              "    .colab-df-convert {\n",
              "      background-color: #E8F0FE;\n",
              "      border: none;\n",
              "      border-radius: 50%;\n",
              "      cursor: pointer;\n",
              "      display: none;\n",
              "      fill: #1967D2;\n",
              "      height: 32px;\n",
              "      padding: 0 0 0 0;\n",
              "      width: 32px;\n",
              "    }\n",
              "\n",
              "    .colab-df-convert:hover {\n",
              "      background-color: #E2EBFA;\n",
              "      box-shadow: 0px 1px 2px rgba(60, 64, 67, 0.3), 0px 1px 3px 1px rgba(60, 64, 67, 0.15);\n",
              "      fill: #174EA6;\n",
              "    }\n",
              "\n",
              "    [theme=dark] .colab-df-convert {\n",
              "      background-color: #3B4455;\n",
              "      fill: #D2E3FC;\n",
              "    }\n",
              "\n",
              "    [theme=dark] .colab-df-convert:hover {\n",
              "      background-color: #434B5C;\n",
              "      box-shadow: 0px 1px 3px 1px rgba(0, 0, 0, 0.15);\n",
              "      filter: drop-shadow(0px 1px 2px rgba(0, 0, 0, 0.3));\n",
              "      fill: #FFFFFF;\n",
              "    }\n",
              "  </style>\n",
              "\n",
              "      <script>\n",
              "        const buttonEl =\n",
              "          document.querySelector('#df-7aa99733-4939-491a-a76a-de895f9e62d9 button.colab-df-convert');\n",
              "        buttonEl.style.display =\n",
              "          google.colab.kernel.accessAllowed ? 'block' : 'none';\n",
              "\n",
              "        async function convertToInteractive(key) {\n",
              "          const element = document.querySelector('#df-7aa99733-4939-491a-a76a-de895f9e62d9');\n",
              "          const dataTable =\n",
              "            await google.colab.kernel.invokeFunction('convertToInteractive',\n",
              "                                                     [key], {});\n",
              "          if (!dataTable) return;\n",
              "\n",
              "          const docLinkHtml = 'Like what you see? Visit the ' +\n",
              "            '<a target=\"_blank\" href=https://colab.research.google.com/notebooks/data_table.ipynb>data table notebook</a>'\n",
              "            + ' to learn more about interactive tables.';\n",
              "          element.innerHTML = '';\n",
              "          dataTable['output_type'] = 'display_data';\n",
              "          await google.colab.output.renderOutput(dataTable, element);\n",
              "          const docLink = document.createElement('div');\n",
              "          docLink.innerHTML = docLinkHtml;\n",
              "          element.appendChild(docLink);\n",
              "        }\n",
              "      </script>\n",
              "    </div>\n",
              "  </div>\n",
              "  "
            ],
            "text/plain": [
              "            loan_id source financial_institution  interest_rate  \\\n",
              "94225  9.084070e+11      X                 OTHER          4.375   \n",
              "94226  3.700470e+11      X         Browning-Hart          4.375   \n",
              "94227  3.970580e+11      X                 OTHER          3.875   \n",
              "94228  8.733380e+11      Y       Edwards-Hoffman          3.875   \n",
              "94229  7.500000e+00    NaN                   NaN            NaN   \n",
              "\n",
              "       unpaid_principal_bal  loan_term origination_date first_payment_date  \\\n",
              "94225              318000.0      360.0       01-03-2012             May-12   \n",
              "94226              530000.0      360.0       01-01-2012             Mar-12   \n",
              "94227              232000.0      360.0       01-03-2012             May-12   \n",
              "94228              250000.0      360.0       01-01-2012             Mar-12   \n",
              "94229                   NaN        NaN              NaN                NaN   \n",
              "\n",
              "       loan_to_value  number_of_borrowers  ...   m4   m5   m6   m7   m8   m9  \\\n",
              "94225           95.0                  1.0  ...  0.0  0.0  0.0  0.0  0.0  0.0   \n",
              "94226           79.0                  1.0  ...  0.0  0.0  0.0  0.0  0.0  0.0   \n",
              "94227           80.0                  2.0  ...  0.0  0.0  0.0  0.0  0.0  0.0   \n",
              "94228           63.0                  1.0  ...  0.0  0.0  0.0  0.0  0.0  0.0   \n",
              "94229            NaN                  NaN  ...  NaN  NaN  NaN  NaN  NaN  NaN   \n",
              "\n",
              "       m10  m11  m12  m13  \n",
              "94225  0.0  0.0  0.0  0.0  \n",
              "94226  0.0  0.0  0.0  0.0  \n",
              "94227  0.0  0.0  0.0  0.0  \n",
              "94228  0.0  0.0  0.0  0.0  \n",
              "94229  NaN  NaN  NaN  NaN  \n",
              "\n",
              "[5 rows x 29 columns]"
            ]
          },
          "execution_count": 4,
          "metadata": {},
          "output_type": "execute_result"
        }
      ],
      "source": [
        "data.tail()"
      ]
    },
    {
      "cell_type": "code",
      "execution_count": 5,
      "metadata": {
        "colab": {
          "base_uri": "https://localhost:8080/"
        },
        "id": "wFR2QnysiKu_",
        "outputId": "a2d95129-a143-4fdb-8844-ff93c508f4b2"
      },
      "outputs": [
        {
          "name": "stdout",
          "output_type": "stream",
          "text": [
            "<class 'pandas.core.frame.DataFrame'>\n",
            "RangeIndex: 94230 entries, 0 to 94229\n",
            "Data columns (total 29 columns):\n",
            " #   Column                    Non-Null Count  Dtype  \n",
            "---  ------                    --------------  -----  \n",
            " 0   loan_id                   94230 non-null  float64\n",
            " 1   source                    94229 non-null  object \n",
            " 2   financial_institution     94229 non-null  object \n",
            " 3   interest_rate             94229 non-null  float64\n",
            " 4   unpaid_principal_bal      94229 non-null  float64\n",
            " 5   loan_term                 94229 non-null  float64\n",
            " 6   origination_date          94229 non-null  object \n",
            " 7   first_payment_date        94229 non-null  object \n",
            " 8   loan_to_value             94229 non-null  float64\n",
            " 9   number_of_borrowers       94229 non-null  float64\n",
            " 10  debt_to_income_ratio      94229 non-null  float64\n",
            " 11  borrower_credit_score     94229 non-null  float64\n",
            " 12  loan_purpose              94229 non-null  object \n",
            " 13  insurance_percent         94229 non-null  float64\n",
            " 14  co-borrower_credit_score  94229 non-null  float64\n",
            " 15  insurance_type            94229 non-null  float64\n",
            " 16  m1                        94229 non-null  float64\n",
            " 17  m2                        94229 non-null  float64\n",
            " 18  m3                        94229 non-null  float64\n",
            " 19  m4                        94229 non-null  float64\n",
            " 20  m5                        94229 non-null  float64\n",
            " 21  m6                        94229 non-null  float64\n",
            " 22  m7                        94229 non-null  float64\n",
            " 23  m8                        94229 non-null  float64\n",
            " 24  m9                        94229 non-null  float64\n",
            " 25  m10                       94229 non-null  float64\n",
            " 26  m11                       94229 non-null  float64\n",
            " 27  m12                       94229 non-null  float64\n",
            " 28  m13                       94229 non-null  float64\n",
            "dtypes: float64(24), object(5)\n",
            "memory usage: 20.8+ MB\n"
          ]
        }
      ],
      "source": [
        "data.info()"
      ]
    },
    {
      "cell_type": "code",
      "execution_count": 6,
      "metadata": {
        "colab": {
          "base_uri": "https://localhost:8080/"
        },
        "id": "umt19Rcpmmxf",
        "outputId": "ce43b93f-5d98-48ba-d8ac-9a7fdc038463"
      },
      "outputs": [
        {
          "data": {
            "text/plain": [
              "(94230, 29)"
            ]
          },
          "execution_count": 6,
          "metadata": {},
          "output_type": "execute_result"
        }
      ],
      "source": [
        "data.shape"
      ]
    },
    {
      "cell_type": "code",
      "execution_count": 7,
      "metadata": {
        "colab": {
          "base_uri": "https://localhost:8080/"
        },
        "id": "eurTURhviOvr",
        "outputId": "bb97308f-fc90-4b54-dcdc-9eba185512dd"
      },
      "outputs": [
        {
          "data": {
            "text/plain": [
              "Index(['loan_id', 'source', 'financial_institution', 'interest_rate',\n",
              "       'unpaid_principal_bal', 'loan_term', 'origination_date',\n",
              "       'first_payment_date', 'loan_to_value', 'number_of_borrowers',\n",
              "       'debt_to_income_ratio', 'borrower_credit_score', 'loan_purpose',\n",
              "       'insurance_percent', 'co-borrower_credit_score', 'insurance_type', 'm1',\n",
              "       'm2', 'm3', 'm4', 'm5', 'm6', 'm7', 'm8', 'm9', 'm10', 'm11', 'm12',\n",
              "       'm13'],\n",
              "      dtype='object')"
            ]
          },
          "execution_count": 7,
          "metadata": {},
          "output_type": "execute_result"
        }
      ],
      "source": [
        "data.columns"
      ]
    },
    {
      "cell_type": "code",
      "execution_count": 8,
      "metadata": {
        "colab": {
          "base_uri": "https://localhost:8080/"
        },
        "id": "dm8RwgQgiRh9",
        "outputId": "dba54c93-91ac-4837-d18d-422458e05b12"
      },
      "outputs": [
        {
          "data": {
            "text/plain": [
              "loan_id                     0\n",
              "source                      1\n",
              "financial_institution       1\n",
              "interest_rate               1\n",
              "unpaid_principal_bal        1\n",
              "loan_term                   1\n",
              "origination_date            1\n",
              "first_payment_date          1\n",
              "loan_to_value               1\n",
              "number_of_borrowers         1\n",
              "debt_to_income_ratio        1\n",
              "borrower_credit_score       1\n",
              "loan_purpose                1\n",
              "insurance_percent           1\n",
              "co-borrower_credit_score    1\n",
              "insurance_type              1\n",
              "m1                          1\n",
              "m2                          1\n",
              "m3                          1\n",
              "m4                          1\n",
              "m5                          1\n",
              "m6                          1\n",
              "m7                          1\n",
              "m8                          1\n",
              "m9                          1\n",
              "m10                         1\n",
              "m11                         1\n",
              "m12                         1\n",
              "m13                         1\n",
              "dtype: int64"
            ]
          },
          "execution_count": 8,
          "metadata": {},
          "output_type": "execute_result"
        }
      ],
      "source": [
        "data.isna().sum()"
      ]
    },
    {
      "cell_type": "code",
      "execution_count": 9,
      "metadata": {
        "id": "rEx120Pjmz6N"
      },
      "outputs": [],
      "source": [
        "data = data.dropna()"
      ]
    },
    {
      "cell_type": "code",
      "execution_count": 10,
      "metadata": {
        "colab": {
          "base_uri": "https://localhost:8080/"
        },
        "id": "TrcewRsxJloZ",
        "outputId": "9847c012-3cf6-4b00-e6a0-dc20e724cc8c"
      },
      "outputs": [
        {
          "name": "stdout",
          "output_type": "stream",
          "text": [
            "<class 'pandas.core.frame.DataFrame'>\n",
            "Int64Index: 94229 entries, 0 to 94228\n",
            "Data columns (total 29 columns):\n",
            " #   Column                    Non-Null Count  Dtype  \n",
            "---  ------                    --------------  -----  \n",
            " 0   loan_id                   94229 non-null  float64\n",
            " 1   source                    94229 non-null  object \n",
            " 2   financial_institution     94229 non-null  object \n",
            " 3   interest_rate             94229 non-null  float64\n",
            " 4   unpaid_principal_bal      94229 non-null  float64\n",
            " 5   loan_term                 94229 non-null  float64\n",
            " 6   origination_date          94229 non-null  object \n",
            " 7   first_payment_date        94229 non-null  object \n",
            " 8   loan_to_value             94229 non-null  float64\n",
            " 9   number_of_borrowers       94229 non-null  float64\n",
            " 10  debt_to_income_ratio      94229 non-null  float64\n",
            " 11  borrower_credit_score     94229 non-null  float64\n",
            " 12  loan_purpose              94229 non-null  object \n",
            " 13  insurance_percent         94229 non-null  float64\n",
            " 14  co-borrower_credit_score  94229 non-null  float64\n",
            " 15  insurance_type            94229 non-null  float64\n",
            " 16  m1                        94229 non-null  float64\n",
            " 17  m2                        94229 non-null  float64\n",
            " 18  m3                        94229 non-null  float64\n",
            " 19  m4                        94229 non-null  float64\n",
            " 20  m5                        94229 non-null  float64\n",
            " 21  m6                        94229 non-null  float64\n",
            " 22  m7                        94229 non-null  float64\n",
            " 23  m8                        94229 non-null  float64\n",
            " 24  m9                        94229 non-null  float64\n",
            " 25  m10                       94229 non-null  float64\n",
            " 26  m11                       94229 non-null  float64\n",
            " 27  m12                       94229 non-null  float64\n",
            " 28  m13                       94229 non-null  float64\n",
            "dtypes: float64(24), object(5)\n",
            "memory usage: 21.6+ MB\n"
          ]
        }
      ],
      "source": [
        "data.info()"
      ]
    },
    {
      "cell_type": "code",
      "execution_count": 11,
      "metadata": {
        "colab": {
          "base_uri": "https://localhost:8080/"
        },
        "id": "yJYxGzJNLKjJ",
        "outputId": "4e8dbead-c510-41ff-d1f9-7158c7f82f0e"
      },
      "outputs": [
        {
          "data": {
            "text/plain": [
              "X    51872\n",
              "Y    30448\n",
              "Z    11909\n",
              "Name: source, dtype: int64"
            ]
          },
          "execution_count": 11,
          "metadata": {},
          "output_type": "execute_result"
        }
      ],
      "source": [
        "data['source'].value_counts()"
      ]
    },
    {
      "cell_type": "code",
      "execution_count": 12,
      "metadata": {
        "colab": {
          "base_uri": "https://localhost:8080/"
        },
        "id": "jNkLWYZOLRDy",
        "outputId": "d570ff72-247b-4ac1-b34d-5fb2ae6d8c3e"
      },
      "outputs": [
        {
          "data": {
            "text/plain": [
              "19"
            ]
          },
          "execution_count": 12,
          "metadata": {},
          "output_type": "execute_result"
        }
      ],
      "source": [
        "data['financial_institution'].nunique()"
      ]
    },
    {
      "cell_type": "code",
      "execution_count": 13,
      "metadata": {
        "colab": {
          "base_uri": "https://localhost:8080/"
        },
        "id": "TRDozFXRLgdD",
        "outputId": "b8ac7c0f-1701-43cb-cd88-6dd1d14e2fd1"
      },
      "outputs": [
        {
          "data": {
            "text/plain": [
              "OTHER                          42.806355\n",
              "Browning-Hart                  27.396025\n",
              "Swanson, Newton and Miller      5.844273\n",
              "Edwards-Hoffman                 4.205712\n",
              "Martinez, Duffy and Bird        4.040157\n",
              "Miller, Mcclure and Allen       2.753929\n",
              "Nicholson Group                 1.845504\n",
              "Turner, Baldwin and Rhodes      1.614153\n",
              "Suarez Inc                      1.554723\n",
              "Cole, Brooks and Vincent        1.409333\n",
              "Richards-Walters                1.271371\n",
              "Taylor, Hunt and Rodriguez      1.090959\n",
              "Sanchez-Robinson                1.040020\n",
              "Sanchez, Hays and Wilkerson     0.735442\n",
              "Romero, Woods and Johnson       0.660094\n",
              "Thornton-Davis                  0.567766\n",
              "Anderson-Taylor                 0.414947\n",
              "Richardson Ltd                  0.412824\n",
              "Chapman-Mcmahon                 0.336414\n",
              "Name: financial_institution, dtype: float64"
            ]
          },
          "execution_count": 13,
          "metadata": {},
          "output_type": "execute_result"
        }
      ],
      "source": [
        "data['financial_institution'].value_counts(normalize = True) * 100"
      ]
    },
    {
      "cell_type": "code",
      "execution_count": 14,
      "metadata": {
        "colab": {
          "base_uri": "https://localhost:8080/"
        },
        "id": "L4riOL46M8_v",
        "outputId": "57f9c234-fcb9-472f-c26b-82965ec17577"
      },
      "outputs": [
        {
          "data": {
            "text/plain": [
              "count    94229.000000\n",
              "mean         3.868367\n",
              "std          0.460738\n",
              "min          2.375000\n",
              "25%          3.500000\n",
              "50%          3.875000\n",
              "75%          4.125000\n",
              "max          6.625000\n",
              "Name: interest_rate, dtype: float64"
            ]
          },
          "execution_count": 14,
          "metadata": {},
          "output_type": "execute_result"
        }
      ],
      "source": [
        "data['interest_rate'].describe()"
      ]
    },
    {
      "cell_type": "code",
      "execution_count": 15,
      "metadata": {
        "colab": {
          "base_uri": "https://localhost:8080/",
          "height": 430
        },
        "id": "MaageOrIiv2n",
        "outputId": "30f71086-2228-47ab-cb53-14c02a2f087e"
      },
      "outputs": [
        {
          "data": {
            "image/png": "[encoded data removed]",
            "text/plain": [
              "<Figure size 640x480 with 1 Axes>"
            ]
          },
          "metadata": {},
          "output_type": "display_data"
        }
      ],
      "source": [
        "import matplotlib.pyplot as plt\n",
        "data['interest_rate'].plot(kind=\"box\")\n",
        "plt.show()"
      ]
    },
    {
      "cell_type": "code",
      "execution_count": 16,
      "metadata": {
        "colab": {
          "base_uri": "https://localhost:8080/",
          "height": 445
        },
        "id": "f7Oxhm53PC6U",
        "outputId": "5182ae03-f7bd-4c1d-8e70-34fa94fdf559"
      },
      "outputs": [
        {
          "data": {
            "image/png": "[encoded data removed]",
            "text/plain": [
              "<Figure size 640x480 with 1 Axes>"
            ]
          },
          "metadata": {},
          "output_type": "display_data"
        }
      ],
      "source": [
        "data['unpaid_principal_bal'].plot(kind=\"box\")\n",
        "plt.show()"
      ]
    },
    {
      "cell_type": "code",
      "execution_count": 17,
      "metadata": {
        "colab": {
          "base_uri": "https://localhost:8080/",
          "height": 411
        },
        "id": "8mANRsMYl-DX",
        "outputId": "8a61de5f-d817-4a45-d6f5-ff21e87c769b"
      },
      "outputs": [
        {
          "data": {
            "text/html": [
              "\n",
              "  <div id=\"df-a5c67cf5-6f6d-44fb-a7f0-60d9d07281aa\">\n",
              "    <div class=\"colab-df-container\">\n",
              "      <div>\n",
              "<style scoped>\n",
              "    .dataframe tbody tr th:only-of-type {\n",
              "        vertical-align: middle;\n",
              "    }\n",
              "\n",
              "    .dataframe tbody tr th {\n",
              "        vertical-align: top;\n",
              "    }\n",
              "\n",
              "    .dataframe thead th {\n",
              "        text-align: right;\n",
              "    }\n",
              "</style>\n",
              "<table border=\"1\" class=\"dataframe\">\n",
              "  <thead>\n",
              "    <tr style=\"text-align: right;\">\n",
              "      <th></th>\n",
              "      <th>loan_id</th>\n",
              "      <th>interest_rate</th>\n",
              "      <th>unpaid_principal_bal</th>\n",
              "      <th>loan_term</th>\n",
              "      <th>loan_to_value</th>\n",
              "      <th>number_of_borrowers</th>\n",
              "      <th>debt_to_income_ratio</th>\n",
              "      <th>borrower_credit_score</th>\n",
              "      <th>insurance_percent</th>\n",
              "      <th>co-borrower_credit_score</th>\n",
              "      <th>...</th>\n",
              "      <th>m4</th>\n",
              "      <th>m5</th>\n",
              "      <th>m6</th>\n",
              "      <th>m7</th>\n",
              "      <th>m8</th>\n",
              "      <th>m9</th>\n",
              "      <th>m10</th>\n",
              "      <th>m11</th>\n",
              "      <th>m12</th>\n",
              "      <th>m13</th>\n",
              "    </tr>\n",
              "  </thead>\n",
              "  <tbody>\n",
              "    <tr>\n",
              "      <th>count</th>\n",
              "      <td>9.422900e+04</td>\n",
              "      <td>94229.000000</td>\n",
              "      <td>9.422900e+04</td>\n",
              "      <td>94229.000000</td>\n",
              "      <td>94229.000000</td>\n",
              "      <td>94229.000000</td>\n",
              "      <td>94229.000000</td>\n",
              "      <td>94229.000000</td>\n",
              "      <td>94229.000000</td>\n",
              "      <td>94229.000000</td>\n",
              "      <td>...</td>\n",
              "      <td>94229.000000</td>\n",
              "      <td>94229.000000</td>\n",
              "      <td>94229.000000</td>\n",
              "      <td>94229.000000</td>\n",
              "      <td>94229.000000</td>\n",
              "      <td>94229.000000</td>\n",
              "      <td>94229.000000</td>\n",
              "      <td>94229.000000</td>\n",
              "      <td>94229.000000</td>\n",
              "      <td>94229.000000</td>\n",
              "    </tr>\n",
              "    <tr>\n",
              "      <th>mean</th>\n",
              "      <td>5.488952e+11</td>\n",
              "      <td>3.868367</td>\n",
              "      <td>2.084526e+05</td>\n",
              "      <td>292.077842</td>\n",
              "      <td>67.403464</td>\n",
              "      <td>1.592238</td>\n",
              "      <td>30.738393</td>\n",
              "      <td>769.892846</td>\n",
              "      <td>2.781935</td>\n",
              "      <td>458.889832</td>\n",
              "      <td>...</td>\n",
              "      <td>0.002462</td>\n",
              "      <td>0.003863</td>\n",
              "      <td>0.003789</td>\n",
              "      <td>0.004712</td>\n",
              "      <td>0.005338</td>\n",
              "      <td>0.006038</td>\n",
              "      <td>0.007418</td>\n",
              "      <td>0.008150</td>\n",
              "      <td>0.009466</td>\n",
              "      <td>0.006750</td>\n",
              "    </tr>\n",
              "    <tr>\n",
              "      <th>std</th>\n",
              "      <td>2.600214e+11</td>\n",
              "      <td>0.460738</td>\n",
              "      <td>1.149037e+05</td>\n",
              "      <td>89.795852</td>\n",
              "      <td>17.306575</td>\n",
              "      <td>0.491421</td>\n",
              "      <td>9.723755</td>\n",
              "      <td>42.329123</td>\n",
              "      <td>8.088132</td>\n",
              "      <td>382.120745</td>\n",
              "      <td>...</td>\n",
              "      <td>0.067035</td>\n",
              "      <td>0.087933</td>\n",
              "      <td>0.093493</td>\n",
              "      <td>0.108531</td>\n",
              "      <td>0.120680</td>\n",
              "      <td>0.137116</td>\n",
              "      <td>0.158921</td>\n",
              "      <td>0.175847</td>\n",
              "      <td>0.196100</td>\n",
              "      <td>0.081878</td>\n",
              "    </tr>\n",
              "    <tr>\n",
              "      <th>min</th>\n",
              "      <td>1.000010e+11</td>\n",
              "      <td>2.375000</td>\n",
              "      <td>1.100000e+04</td>\n",
              "      <td>60.000000</td>\n",
              "      <td>6.000000</td>\n",
              "      <td>1.000000</td>\n",
              "      <td>1.000000</td>\n",
              "      <td>0.000000</td>\n",
              "      <td>0.000000</td>\n",
              "      <td>0.000000</td>\n",
              "      <td>...</td>\n",
              "      <td>0.000000</td>\n",
              "      <td>0.000000</td>\n",
              "      <td>0.000000</td>\n",
              "      <td>0.000000</td>\n",
              "      <td>0.000000</td>\n",
              "      <td>0.000000</td>\n",
              "      <td>0.000000</td>\n",
              "      <td>0.000000</td>\n",
              "      <td>0.000000</td>\n",
              "      <td>0.000000</td>\n",
              "    </tr>\n",
              "    <tr>\n",
              "      <th>25%</th>\n",
              "      <td>3.231510e+11</td>\n",
              "      <td>3.500000</td>\n",
              "      <td>1.200000e+05</td>\n",
              "      <td>180.000000</td>\n",
              "      <td>57.000000</td>\n",
              "      <td>1.000000</td>\n",
              "      <td>23.000000</td>\n",
              "      <td>751.000000</td>\n",
              "      <td>0.000000</td>\n",
              "      <td>0.000000</td>\n",
              "      <td>...</td>\n",
              "      <td>0.000000</td>\n",
              "      <td>0.000000</td>\n",
              "      <td>0.000000</td>\n",
              "      <td>0.000000</td>\n",
              "      <td>0.000000</td>\n",
              "      <td>0.000000</td>\n",
              "      <td>0.000000</td>\n",
              "      <td>0.000000</td>\n",
              "      <td>0.000000</td>\n",
              "      <td>0.000000</td>\n",
              "    </tr>\n",
              "    <tr>\n",
              "      <th>50%</th>\n",
              "      <td>5.475550e+11</td>\n",
              "      <td>3.875000</td>\n",
              "      <td>1.830000e+05</td>\n",
              "      <td>360.000000</td>\n",
              "      <td>72.000000</td>\n",
              "      <td>2.000000</td>\n",
              "      <td>31.000000</td>\n",
              "      <td>782.000000</td>\n",
              "      <td>0.000000</td>\n",
              "      <td>740.000000</td>\n",
              "      <td>...</td>\n",
              "      <td>0.000000</td>\n",
              "      <td>0.000000</td>\n",
              "      <td>0.000000</td>\n",
              "      <td>0.000000</td>\n",
              "      <td>0.000000</td>\n",
              "      <td>0.000000</td>\n",
              "      <td>0.000000</td>\n",
              "      <td>0.000000</td>\n",
              "      <td>0.000000</td>\n",
              "      <td>0.000000</td>\n",
              "    </tr>\n",
              "    <tr>\n",
              "      <th>75%</th>\n",
              "      <td>7.743120e+11</td>\n",
              "      <td>4.125000</td>\n",
              "      <td>2.790000e+05</td>\n",
              "      <td>360.000000</td>\n",
              "      <td>80.000000</td>\n",
              "      <td>2.000000</td>\n",
              "      <td>39.000000</td>\n",
              "      <td>800.000000</td>\n",
              "      <td>0.000000</td>\n",
              "      <td>791.000000</td>\n",
              "      <td>...</td>\n",
              "      <td>0.000000</td>\n",
              "      <td>0.000000</td>\n",
              "      <td>0.000000</td>\n",
              "      <td>0.000000</td>\n",
              "      <td>0.000000</td>\n",
              "      <td>0.000000</td>\n",
              "      <td>0.000000</td>\n",
              "      <td>0.000000</td>\n",
              "      <td>0.000000</td>\n",
              "      <td>0.000000</td>\n",
              "    </tr>\n",
              "    <tr>\n",
              "      <th>max</th>\n",
              "      <td>9.999970e+11</td>\n",
              "      <td>6.625000</td>\n",
              "      <td>1.200000e+06</td>\n",
              "      <td>360.000000</td>\n",
              "      <td>97.000000</td>\n",
              "      <td>2.000000</td>\n",
              "      <td>61.000000</td>\n",
              "      <td>840.000000</td>\n",
              "      <td>40.000000</td>\n",
              "      <td>836.000000</td>\n",
              "      <td>...</td>\n",
              "      <td>6.000000</td>\n",
              "      <td>7.000000</td>\n",
              "      <td>8.000000</td>\n",
              "      <td>9.000000</td>\n",
              "      <td>10.000000</td>\n",
              "      <td>11.000000</td>\n",
              "      <td>12.000000</td>\n",
              "      <td>13.000000</td>\n",
              "      <td>14.000000</td>\n",
              "      <td>1.000000</td>\n",
              "    </tr>\n",
              "  </tbody>\n",
              "</table>\n",
              "<p>8 rows × 24 columns</p>\n",
              "</div>\n",
              "      <button class=\"colab-df-convert\" onclick=\"convertToInteractive('df-a5c67cf5-6f6d-44fb-a7f0-60d9d07281aa')\"\n",
              "              title=\"Convert this dataframe to an interactive table.\"\n",
              "              style=\"display:none;\">\n",
              "        \n",
              "  <svg xmlns=\"http://www.w3.org/2000/svg\" height=\"24px\"viewBox=\"0 0 24 24\"\n",
              "       width=\"24px\">\n",
              "    <path d=\"M0 0h24v24H0V0z\" fill=\"none\"/>\n",
              "    <path d=\"M18.56 5.44l.94 2.06.94-2.06 2.06-.94-2.06-.94-.94-2.06-.94 2.06-2.06.94zm-11 1L8.5 8.5l.94-2.06 2.06-.94-2.06-.94L8.5 2.5l-.94 2.06-2.06.94zm10 10l.94 2.06.94-2.06 2.06-.94-2.06-.94-.94-2.06-.94 2.06-2.06.94z\"/><path d=\"M17.41 7.96l-1.37-1.37c-.4-.4-.92-.59-1.43-.59-.52 0-1.04.2-1.43.59L10.3 9.45l-7.72 7.72c-.78.78-.78 2.05 0 2.83L4 21.41c.39.39.9.59 1.41.59.51 0 1.02-.2 1.41-.59l7.78-7.78 2.81-2.81c.8-.78.8-2.07 0-2.86zM5.41 20L4 18.59l7.72-7.72 1.47 1.35L5.41 20z\"/>\n",
              "  </svg>\n",
              "      </button>\n",
              "      \n",
              "  <style>\n",
              "    .colab-df-container {\n",
              "      display:flex;\n",
              "      flex-wrap:wrap;\n",
              "      gap: 12px;\n",
              "    }\n",
              "\n",
              "    .colab-df-convert {\n",
              "      background-color: #E8F0FE;\n",
              "      border: none;\n",
              "      border-radius: 50%;\n",
              "      cursor: pointer;\n",
              "      display: none;\n",
              "      fill: #1967D2;\n",
              "      height: 32px;\n",
              "      padding: 0 0 0 0;\n",
              "      width: 32px;\n",
              "    }\n",
              "\n",
              "    .colab-df-convert:hover {\n",
              "      background-color: #E2EBFA;\n",
              "      box-shadow: 0px 1px 2px rgba(60, 64, 67, 0.3), 0px 1px 3px 1px rgba(60, 64, 67, 0.15);\n",
              "      fill: #174EA6;\n",
              "    }\n",
              "\n",
              "    [theme=dark] .colab-df-convert {\n",
              "      background-color: #3B4455;\n",
              "      fill: #D2E3FC;\n",
              "    }\n",
              "\n",
              "    [theme=dark] .colab-df-convert:hover {\n",
              "      background-color: #434B5C;\n",
              "      box-shadow: 0px 1px 3px 1px rgba(0, 0, 0, 0.15);\n",
              "      filter: drop-shadow(0px 1px 2px rgba(0, 0, 0, 0.3));\n",
              "      fill: #FFFFFF;\n",
              "    }\n",
              "  </style>\n",
              "\n",
              "      <script>\n",
              "        const buttonEl =\n",
              "          document.querySelector('#df-a5c67cf5-6f6d-44fb-a7f0-60d9d07281aa button.colab-df-convert');\n",
              "        buttonEl.style.display =\n",
              "          google.colab.kernel.accessAllowed ? 'block' : 'none';\n",
              "\n",
              "        async function convertToInteractive(key) {\n",
              "          const element = document.querySelector('#df-a5c67cf5-6f6d-44fb-a7f0-60d9d07281aa');\n",
              "          const dataTable =\n",
              "            await google.colab.kernel.invokeFunction('convertToInteractive',\n",
              "                                                     [key], {});\n",
              "          if (!dataTable) return;\n",
              "\n",
              "          const docLinkHtml = 'Like what you see? Visit the ' +\n",
              "            '<a target=\"_blank\" href=https://colab.research.google.com/notebooks/data_table.ipynb>data table notebook</a>'\n",
              "            + ' to learn more about interactive tables.';\n",
              "          element.innerHTML = '';\n",
              "          dataTable['output_type'] = 'display_data';\n",
              "          await google.colab.output.renderOutput(dataTable, element);\n",
              "          const docLink = document.createElement('div');\n",
              "          docLink.innerHTML = docLinkHtml;\n",
              "          element.appendChild(docLink);\n",
              "        }\n",
              "      </script>\n",
              "    </div>\n",
              "  </div>\n",
              "  "
            ],
            "text/plain": [
              "            loan_id  interest_rate  unpaid_principal_bal     loan_term  \\\n",
              "count  9.422900e+04   94229.000000          9.422900e+04  94229.000000   \n",
              "mean   5.488952e+11       3.868367          2.084526e+05    292.077842   \n",
              "std    2.600214e+11       0.460738          1.149037e+05     89.795852   \n",
              "min    1.000010e+11       2.375000          1.100000e+04     60.000000   \n",
              "25%    3.231510e+11       3.500000          1.200000e+05    180.000000   \n",
              "50%    5.475550e+11       3.875000          1.830000e+05    360.000000   \n",
              "75%    7.743120e+11       4.125000          2.790000e+05    360.000000   \n",
              "max    9.999970e+11       6.625000          1.200000e+06    360.000000   \n",
              "\n",
              "       loan_to_value  number_of_borrowers  debt_to_income_ratio  \\\n",
              "count   94229.000000         94229.000000          94229.000000   \n",
              "mean       67.403464             1.592238             30.738393   \n",
              "std        17.306575             0.491421              9.723755   \n",
              "min         6.000000             1.000000              1.000000   \n",
              "25%        57.000000             1.000000             23.000000   \n",
              "50%        72.000000             2.000000             31.000000   \n",
              "75%        80.000000             2.000000             39.000000   \n",
              "max        97.000000             2.000000             61.000000   \n",
              "\n",
              "       borrower_credit_score  insurance_percent  co-borrower_credit_score  \\\n",
              "count           94229.000000       94229.000000              94229.000000   \n",
              "mean              769.892846           2.781935                458.889832   \n",
              "std                42.329123           8.088132                382.120745   \n",
              "min                 0.000000           0.000000                  0.000000   \n",
              "25%               751.000000           0.000000                  0.000000   \n",
              "50%               782.000000           0.000000                740.000000   \n",
              "75%               800.000000           0.000000                791.000000   \n",
              "max               840.000000          40.000000                836.000000   \n",
              "\n",
              "       ...            m4            m5            m6            m7  \\\n",
              "count  ...  94229.000000  94229.000000  94229.000000  94229.000000   \n",
              "mean   ...      0.002462      0.003863      0.003789      0.004712   \n",
              "std    ...      0.067035      0.087933      0.093493      0.108531   \n",
              "min    ...      0.000000      0.000000      0.000000      0.000000   \n",
              "25%    ...      0.000000      0.000000      0.000000      0.000000   \n",
              "50%    ...      0.000000      0.000000      0.000000      0.000000   \n",
              "75%    ...      0.000000      0.000000      0.000000      0.000000   \n",
              "max    ...      6.000000      7.000000      8.000000      9.000000   \n",
              "\n",
              "                 m8            m9           m10           m11           m12  \\\n",
              "count  94229.000000  94229.000000  94229.000000  94229.000000  94229.000000   \n",
              "mean       0.005338      0.006038      0.007418      0.008150      0.009466   \n",
              "std        0.120680      0.137116      0.158921      0.175847      0.196100   \n",
              "min        0.000000      0.000000      0.000000      0.000000      0.000000   \n",
              "25%        0.000000      0.000000      0.000000      0.000000      0.000000   \n",
              "50%        0.000000      0.000000      0.000000      0.000000      0.000000   \n",
              "75%        0.000000      0.000000      0.000000      0.000000      0.000000   \n",
              "max       10.000000     11.000000     12.000000     13.000000     14.000000   \n",
              "\n",
              "                m13  \n",
              "count  94229.000000  \n",
              "mean       0.006750  \n",
              "std        0.081878  \n",
              "min        0.000000  \n",
              "25%        0.000000  \n",
              "50%        0.000000  \n",
              "75%        0.000000  \n",
              "max        1.000000  \n",
              "\n",
              "[8 rows x 24 columns]"
            ]
          },
          "execution_count": 17,
          "metadata": {},
          "output_type": "execute_result"
        }
      ],
      "source": [
        "\n",
        "\n",
        "\n",
        "\n",
        "\n",
        "data.describe()"
      ]
    },
    {
      "cell_type": "code",
      "execution_count": 18,
      "metadata": {
        "colab": {
          "base_uri": "https://localhost:8080/"
        },
        "id": "lymkcMNKi3wa",
        "outputId": "5e15e2c8-cd1c-4924-d8dc-e75fc7bdd8a2"
      },
      "outputs": [
        {
          "data": {
            "text/plain": [
              "<bound method IndexOpsMixin.value_counts of 0        Z\n",
              "1        Y\n",
              "2        Z\n",
              "3        X\n",
              "4        X\n",
              "        ..\n",
              "94224    X\n",
              "94225    X\n",
              "94226    X\n",
              "94227    X\n",
              "94228    Y\n",
              "Name: source, Length: 94229, dtype: object>"
            ]
          },
          "execution_count": 18,
          "metadata": {},
          "output_type": "execute_result"
        }
      ],
      "source": [
        "data['source'].value_counts"
      ]
    },
    {
      "cell_type": "code",
      "execution_count": 19,
      "metadata": {
        "colab": {
          "base_uri": "https://localhost:8080/"
        },
        "id": "fOxZAJfJnHWH",
        "outputId": "27e4b064-ad1b-424f-806c-7f340b755da1"
      },
      "outputs": [
        {
          "data": {
            "text/plain": [
              "19"
            ]
          },
          "execution_count": 19,
          "metadata": {},
          "output_type": "execute_result"
        }
      ],
      "source": [
        "data['financial_institution'].nunique()"
      ]
    },
    {
      "cell_type": "code",
      "execution_count": 20,
      "metadata": {
        "colab": {
          "base_uri": "https://localhost:8080/"
        },
        "id": "zY02GRIbnP5i",
        "outputId": "16046cc8-e933-45b3-f2de-7a65c52149e8"
      },
      "outputs": [
        {
          "data": {
            "text/plain": [
              "OTHER                          40336\n",
              "Browning-Hart                  25815\n",
              "Swanson, Newton and Miller      5507\n",
              "Edwards-Hoffman                 3963\n",
              "Martinez, Duffy and Bird        3807\n",
              "Miller, Mcclure and Allen       2595\n",
              "Nicholson Group                 1739\n",
              "Turner, Baldwin and Rhodes      1521\n",
              "Suarez Inc                      1465\n",
              "Cole, Brooks and Vincent        1328\n",
              "Richards-Walters                1198\n",
              "Taylor, Hunt and Rodriguez      1028\n",
              "Sanchez-Robinson                 980\n",
              "Sanchez, Hays and Wilkerson      693\n",
              "Romero, Woods and Johnson        622\n",
              "Thornton-Davis                   535\n",
              "Anderson-Taylor                  391\n",
              "Richardson Ltd                   389\n",
              "Chapman-Mcmahon                  317\n",
              "Name: financial_institution, dtype: int64"
            ]
          },
          "execution_count": 20,
          "metadata": {},
          "output_type": "execute_result"
        }
      ],
      "source": [
        "data['financial_institution'].value_counts()"
      ]
    },
    {
      "cell_type": "code",
      "execution_count": 21,
      "metadata": {
        "colab": {
          "base_uri": "https://localhost:8080/"
        },
        "id": "FfD-XPllnWV6",
        "outputId": "e3837d14-df77-4eb3-c14e-20a861462f6f"
      },
      "outputs": [
        {
          "data": {
            "text/plain": [
              "count    94229.000000\n",
              "mean         3.868367\n",
              "std          0.460738\n",
              "min          2.375000\n",
              "25%          3.500000\n",
              "50%          3.875000\n",
              "75%          4.125000\n",
              "max          6.625000\n",
              "Name: interest_rate, dtype: float64"
            ]
          },
          "execution_count": 21,
          "metadata": {},
          "output_type": "execute_result"
        }
      ],
      "source": [
        "data['interest_rate'].describe()"
      ]
    },
    {
      "cell_type": "code",
      "execution_count": 22,
      "metadata": {
        "colab": {
          "base_uri": "https://localhost:8080/",
          "height": 430
        },
        "id": "KsAe6w13ngc2",
        "outputId": "202782aa-9f53-4485-e762-f083a70552e4"
      },
      "outputs": [
        {
          "data": {
            "image/png": "[encoded data removed]",
            "text/plain": [
              "<Figure size 640x480 with 1 Axes>"
            ]
          },
          "metadata": {},
          "output_type": "display_data"
        }
      ],
      "source": [
        "import matplotlib.pyplot as plt\n",
        "data['interest_rate'].plot(kind=\"box\")\n",
        "plt.show()"
      ]
    },
    {
      "cell_type": "code",
      "execution_count": 23,
      "metadata": {
        "colab": {
          "base_uri": "https://localhost:8080/",
          "height": 445
        },
        "id": "Vf7j_3tcn0PH",
        "outputId": "f889f006-80b5-4371-dbd9-eae12c01243c"
      },
      "outputs": [
        {
          "data": {
            "image/png": "[encoded data removed]",
            "text/plain": [
              "<Figure size 640x480 with 1 Axes>"
            ]
          },
          "metadata": {},
          "output_type": "display_data"
        }
      ],
      "source": [
        "data['unpaid_principal_bal'].plot(kind=\"box\")\n",
        "plt.show()"
      ]
    },
    {
      "cell_type": "code",
      "execution_count": 24,
      "metadata": {
        "colab": {
          "base_uri": "https://localhost:8080/"
        },
        "id": "-bc6d8zBoKOw",
        "outputId": "482ef76c-de13-4094-e36d-13e941a6698c"
      },
      "outputs": [
        {
          "data": {
            "text/plain": [
              "count      94229.0\n",
              "mean      208453.0\n",
              "std       114904.0\n",
              "min        11000.0\n",
              "25%       120000.0\n",
              "50%       183000.0\n",
              "75%       279000.0\n",
              "max      1200000.0\n",
              "Name: unpaid_principal_bal, dtype: float64"
            ]
          },
          "execution_count": 24,
          "metadata": {},
          "output_type": "execute_result"
        }
      ],
      "source": [
        "data['unpaid_principal_bal'].describe().round()"
      ]
    },
    {
      "cell_type": "code",
      "execution_count": 25,
      "metadata": {
        "colab": {
          "base_uri": "https://localhost:8080/"
        },
        "id": "RAYefYXfoRLd",
        "outputId": "8de0e853-2a4a-4823-87ec-a0d3ac383ec7"
      },
      "outputs": [
        {
          "data": {
            "text/plain": [
              "Int64Index([84135], dtype='int64')"
            ]
          },
          "execution_count": 25,
          "metadata": {},
          "output_type": "execute_result"
        }
      ],
      "source": [
        "data[data['unpaid_principal_bal'] > 1000000].index"
      ]
    },
    {
      "cell_type": "code",
      "execution_count": 26,
      "metadata": {
        "id": "4SdUGCJFocY5"
      },
      "outputs": [],
      "source": [
        "data=data.drop(84135)"
      ]
    },
    {
      "cell_type": "code",
      "execution_count": 27,
      "metadata": {
        "colab": {
          "base_uri": "https://localhost:8080/"
        },
        "id": "gnFQuaACoq5z",
        "outputId": "2d8795ca-5ba9-4cea-f524-71a078723b4c"
      },
      "outputs": [
        {
          "data": {
            "text/plain": [
              "count    94228.000000\n",
              "mean       292.079032\n",
              "std         89.795587\n",
              "min         60.000000\n",
              "25%        180.000000\n",
              "50%        360.000000\n",
              "75%        360.000000\n",
              "max        360.000000\n",
              "Name: loan_term, dtype: float64"
            ]
          },
          "execution_count": 27,
          "metadata": {},
          "output_type": "execute_result"
        }
      ],
      "source": [
        "data['loan_term'].describe()"
      ]
    },
    {
      "cell_type": "code",
      "execution_count": 28,
      "metadata": {
        "colab": {
          "base_uri": "https://localhost:8080/"
        },
        "id": "GZIoNn1Govuo",
        "outputId": "d285cc4f-c728-4ea9-8b2c-60d55f730bbd"
      },
      "outputs": [
        {
          "data": {
            "text/plain": [
              "count    94228.000000\n",
              "mean        67.403659\n",
              "std         17.306563\n",
              "min          6.000000\n",
              "25%         57.000000\n",
              "50%         72.000000\n",
              "75%         80.000000\n",
              "max         97.000000\n",
              "Name: loan_to_value, dtype: float64"
            ]
          },
          "execution_count": 28,
          "metadata": {},
          "output_type": "execute_result"
        }
      ],
      "source": [
        "data['loan_to_value'].describe()"
      ]
    },
    {
      "cell_type": "code",
      "execution_count": 29,
      "metadata": {
        "colab": {
          "base_uri": "https://localhost:8080/",
          "height": 430
        },
        "id": "CWvJF4J7o4J7",
        "outputId": "3edf4673-a61b-4e95-990d-174e4277ecb0"
      },
      "outputs": [
        {
          "data": {
            "image/png": "[encoded data removed]",
            "text/plain": [
              "<Figure size 640x480 with 1 Axes>"
            ]
          },
          "metadata": {},
          "output_type": "display_data"
        }
      ],
      "source": [
        "data['loan_to_value'].plot(kind=\"box\")\n",
        "plt.show()"
      ]
    },
    {
      "cell_type": "code",
      "execution_count": 30,
      "metadata": {
        "colab": {
          "base_uri": "https://localhost:8080/",
          "height": 143
        },
        "id": "sJwmdjKhpCaX",
        "outputId": "a436ffd3-afd8-4ae5-9efc-1375beef0509"
      },
      "outputs": [
        {
          "data": {
            "text/html": [
              "\n",
              "  <div id=\"df-e4c3e44a-1806-4b88-94a2-6df9b264b27f\">\n",
              "    <div class=\"colab-df-container\">\n",
              "      <div>\n",
              "<style scoped>\n",
              "    .dataframe tbody tr th:only-of-type {\n",
              "        vertical-align: middle;\n",
              "    }\n",
              "\n",
              "    .dataframe tbody tr th {\n",
              "        vertical-align: top;\n",
              "    }\n",
              "\n",
              "    .dataframe thead th {\n",
              "        text-align: right;\n",
              "    }\n",
              "</style>\n",
              "<table border=\"1\" class=\"dataframe\">\n",
              "  <thead>\n",
              "    <tr style=\"text-align: right;\">\n",
              "      <th></th>\n",
              "      <th>loan_id</th>\n",
              "      <th>source</th>\n",
              "      <th>financial_institution</th>\n",
              "      <th>interest_rate</th>\n",
              "      <th>unpaid_principal_bal</th>\n",
              "      <th>loan_term</th>\n",
              "      <th>origination_date</th>\n",
              "      <th>first_payment_date</th>\n",
              "      <th>loan_to_value</th>\n",
              "      <th>number_of_borrowers</th>\n",
              "      <th>...</th>\n",
              "      <th>m4</th>\n",
              "      <th>m5</th>\n",
              "      <th>m6</th>\n",
              "      <th>m7</th>\n",
              "      <th>m8</th>\n",
              "      <th>m9</th>\n",
              "      <th>m10</th>\n",
              "      <th>m11</th>\n",
              "      <th>m12</th>\n",
              "      <th>m13</th>\n",
              "    </tr>\n",
              "  </thead>\n",
              "  <tbody>\n",
              "  </tbody>\n",
              "</table>\n",
              "<p>0 rows × 29 columns</p>\n",
              "</div>\n",
              "      <button class=\"colab-df-convert\" onclick=\"convertToInteractive('df-e4c3e44a-1806-4b88-94a2-6df9b264b27f')\"\n",
              "              title=\"Convert this dataframe to an interactive table.\"\n",
              "              style=\"display:none;\">\n",
              "        \n",
              "  <svg xmlns=\"http://www.w3.org/2000/svg\" height=\"24px\"viewBox=\"0 0 24 24\"\n",
              "       width=\"24px\">\n",
              "    <path d=\"M0 0h24v24H0V0z\" fill=\"none\"/>\n",
              "    <path d=\"M18.56 5.44l.94 2.06.94-2.06 2.06-.94-2.06-.94-.94-2.06-.94 2.06-2.06.94zm-11 1L8.5 8.5l.94-2.06 2.06-.94-2.06-.94L8.5 2.5l-.94 2.06-2.06.94zm10 10l.94 2.06.94-2.06 2.06-.94-2.06-.94-.94-2.06-.94 2.06-2.06.94z\"/><path d=\"M17.41 7.96l-1.37-1.37c-.4-.4-.92-.59-1.43-.59-.52 0-1.04.2-1.43.59L10.3 9.45l-7.72 7.72c-.78.78-.78 2.05 0 2.83L4 21.41c.39.39.9.59 1.41.59.51 0 1.02-.2 1.41-.59l7.78-7.78 2.81-2.81c.8-.78.8-2.07 0-2.86zM5.41 20L4 18.59l7.72-7.72 1.47 1.35L5.41 20z\"/>\n",
              "  </svg>\n",
              "      </button>\n",
              "      \n",
              "  <style>\n",
              "    .colab-df-container {\n",
              "      display:flex;\n",
              "      flex-wrap:wrap;\n",
              "      gap: 12px;\n",
              "    }\n",
              "\n",
              "    .colab-df-convert {\n",
              "      background-color: #E8F0FE;\n",
              "      border: none;\n",
              "      border-radius: 50%;\n",
              "      cursor: pointer;\n",
              "      display: none;\n",
              "      fill: #1967D2;\n",
              "      height: 32px;\n",
              "      padding: 0 0 0 0;\n",
              "      width: 32px;\n",
              "    }\n",
              "\n",
              "    .colab-df-convert:hover {\n",
              "      background-color: #E2EBFA;\n",
              "      box-shadow: 0px 1px 2px rgba(60, 64, 67, 0.3), 0px 1px 3px 1px rgba(60, 64, 67, 0.15);\n",
              "      fill: #174EA6;\n",
              "    }\n",
              "\n",
              "    [theme=dark] .colab-df-convert {\n",
              "      background-color: #3B4455;\n",
              "      fill: #D2E3FC;\n",
              "    }\n",
              "\n",
              "    [theme=dark] .colab-df-convert:hover {\n",
              "      background-color: #434B5C;\n",
              "      box-shadow: 0px 1px 3px 1px rgba(0, 0, 0, 0.15);\n",
              "      filter: drop-shadow(0px 1px 2px rgba(0, 0, 0, 0.3));\n",
              "      fill: #FFFFFF;\n",
              "    }\n",
              "  </style>\n",
              "\n",
              "      <script>\n",
              "        const buttonEl =\n",
              "          document.querySelector('#df-e4c3e44a-1806-4b88-94a2-6df9b264b27f button.colab-df-convert');\n",
              "        buttonEl.style.display =\n",
              "          google.colab.kernel.accessAllowed ? 'block' : 'none';\n",
              "\n",
              "        async function convertToInteractive(key) {\n",
              "          const element = document.querySelector('#df-e4c3e44a-1806-4b88-94a2-6df9b264b27f');\n",
              "          const dataTable =\n",
              "            await google.colab.kernel.invokeFunction('convertToInteractive',\n",
              "                                                     [key], {});\n",
              "          if (!dataTable) return;\n",
              "\n",
              "          const docLinkHtml = 'Like what you see? Visit the ' +\n",
              "            '<a target=\"_blank\" href=https://colab.research.google.com/notebooks/data_table.ipynb>data table notebook</a>'\n",
              "            + ' to learn more about interactive tables.';\n",
              "          element.innerHTML = '';\n",
              "          dataTable['output_type'] = 'display_data';\n",
              "          await google.colab.output.renderOutput(dataTable, element);\n",
              "          const docLink = document.createElement('div');\n",
              "          docLink.innerHTML = docLinkHtml;\n",
              "          element.appendChild(docLink);\n",
              "        }\n",
              "      </script>\n",
              "    </div>\n",
              "  </div>\n",
              "  "
            ],
            "text/plain": [
              "Empty DataFrame\n",
              "Columns: [loan_id, source, financial_institution, interest_rate, unpaid_principal_bal, loan_term, origination_date, first_payment_date, loan_to_value, number_of_borrowers, debt_to_income_ratio, borrower_credit_score, loan_purpose, insurance_percent, co-borrower_credit_score, insurance_type, m1, m2, m3, m4, m5, m6, m7, m8, m9, m10, m11, m12, m13]\n",
              "Index: []\n",
              "\n",
              "[0 rows x 29 columns]"
            ]
          },
          "execution_count": 30,
          "metadata": {},
          "output_type": "execute_result"
        }
      ],
      "source": [
        "data[data['loan_term']<7]"
      ]
    },
    {
      "cell_type": "code",
      "execution_count": 31,
      "metadata": {
        "colab": {
          "base_uri": "https://localhost:8080/"
        },
        "id": "6wEVuV6xpJnu",
        "outputId": "b80a117e-399e-406c-a025-6654503eaaf9"
      },
      "outputs": [
        {
          "data": {
            "text/plain": [
              "count    94228.000000\n",
              "mean        30.738199\n",
              "std          9.723624\n",
              "min          1.000000\n",
              "25%         23.000000\n",
              "50%         31.000000\n",
              "75%         39.000000\n",
              "max         61.000000\n",
              "Name: debt_to_income_ratio, dtype: float64"
            ]
          },
          "execution_count": 31,
          "metadata": {},
          "output_type": "execute_result"
        }
      ],
      "source": [
        "data['debt_to_income_ratio'].describe()"
      ]
    },
    {
      "cell_type": "code",
      "execution_count": 32,
      "metadata": {
        "colab": {
          "base_uri": "https://localhost:8080/"
        },
        "id": "R1pR5Yc9pc5W",
        "outputId": "a01cb08d-9a54-4ac7-b329-523226ce6ec8"
      },
      "outputs": [
        {
          "data": {
            "text/plain": [
              "count    94228.000000\n",
              "mean       769.892558\n",
              "std         42.329256\n",
              "min          0.000000\n",
              "25%        751.000000\n",
              "50%        782.000000\n",
              "75%        800.000000\n",
              "max        840.000000\n",
              "Name: borrower_credit_score, dtype: float64"
            ]
          },
          "execution_count": 32,
          "metadata": {},
          "output_type": "execute_result"
        }
      ],
      "source": [
        "data['borrower_credit_score'].describe()"
      ]
    },
    {
      "cell_type": "code",
      "execution_count": 33,
      "metadata": {
        "colab": {
          "base_uri": "https://localhost:8080/",
          "height": 430
        },
        "id": "bfkULNTcpm4_",
        "outputId": "f28369e9-9288-41f5-cbb7-043b13548601"
      },
      "outputs": [
        {
          "data": {
            "image/png": "[encoded data removed]",
            "text/plain": [
              "<Figure size 640x480 with 1 Axes>"
            ]
          },
          "metadata": {},
          "output_type": "display_data"
        }
      ],
      "source": [
        "data['borrower_credit_score'].plot(kind=\"box\")\n",
        "plt.show()"
      ]
    },
    {
      "cell_type": "code",
      "execution_count": 34,
      "metadata": {
        "id": "gW7db6OKqF4F"
      },
      "outputs": [],
      "source": [
        "repay_cols=['m1',\n",
        "       'm2', 'm3', 'm4', 'm5', 'm6', 'm7', 'm8', 'm9', 'm10', 'm11', 'm12',\n",
        "       'm13']"
      ]
    },
    {
      "cell_type": "code",
      "execution_count": 35,
      "metadata": {
        "colab": {
          "base_uri": "https://localhost:8080/"
        },
        "id": "yZSaVHE_qY_V",
        "outputId": "ee010b47-a6cc-4b02-9378-75792600930d"
      },
      "outputs": [
        {
          "data": {
            "text/plain": [
              "Index(['loan_id', 'source', 'financial_institution', 'interest_rate',\n",
              "       'unpaid_principal_bal', 'loan_term', 'origination_date',\n",
              "       'first_payment_date', 'loan_to_value', 'number_of_borrowers',\n",
              "       'debt_to_income_ratio', 'borrower_credit_score', 'loan_purpose',\n",
              "       'insurance_percent', 'co-borrower_credit_score', 'insurance_type', 'm1',\n",
              "       'm2', 'm3', 'm4', 'm5', 'm6', 'm7', 'm8', 'm9', 'm10', 'm11', 'm12',\n",
              "       'm13'],\n",
              "      dtype='object')"
            ]
          },
          "execution_count": 35,
          "metadata": {},
          "output_type": "execute_result"
        }
      ],
      "source": [
        "data.columns"
      ]
    },
    {
      "cell_type": "code",
      "execution_count": 36,
      "metadata": {
        "id": "qBw0C2y1Dbp_"
      },
      "outputs": [],
      "source": [
        "zero_credit_index = data[data['borrower_credit_score'] < 400][repay_cols].index"
      ]
    },
    {
      "cell_type": "code",
      "execution_count": 36,
      "metadata": {
        "id": "KVK4Ey5zDzZ0"
      },
      "outputs": [],
      "source": []
    },
    {
      "cell_type": "code",
      "execution_count": 37,
      "metadata": {
        "id": "u-4iV6-9DiY0"
      },
      "outputs": [],
      "source": [
        "data = data.drop(zero_credit_index)"
      ]
    },
    {
      "cell_type": "code",
      "execution_count": 38,
      "metadata": {
        "colab": {
          "base_uri": "https://localhost:8080/"
        },
        "id": "7Dh5zxu2D0lI",
        "outputId": "edbdd403-60c8-488a-8699-2abe027a3a84"
      },
      "outputs": [
        {
          "data": {
            "text/plain": [
              "(94185, 29)"
            ]
          },
          "execution_count": 38,
          "metadata": {},
          "output_type": "execute_result"
        }
      ],
      "source": [
        "data.shape"
      ]
    },
    {
      "cell_type": "code",
      "execution_count": 39,
      "metadata": {
        "colab": {
          "base_uri": "https://localhost:8080/"
        },
        "id": "1F2PxvTPD6c8",
        "outputId": "5b830832-3b3b-471f-d89d-e17d7caa7fb0"
      },
      "outputs": [
        {
          "data": {
            "text/plain": [
              "A23    50.466635\n",
              "B12    25.271540\n",
              "C86    24.261825\n",
              "Name: loan_purpose, dtype: float64"
            ]
          },
          "execution_count": 39,
          "metadata": {},
          "output_type": "execute_result"
        }
      ],
      "source": [
        "data['loan_purpose'].value_counts(normalize = True) * 100"
      ]
    },
    {
      "cell_type": "code",
      "execution_count": 40,
      "metadata": {
        "colab": {
          "base_uri": "https://localhost:8080/"
        },
        "id": "RX6JwbKQEAsm",
        "outputId": "025748d0-b9c8-4c17-ab74-43e2722c8109"
      },
      "outputs": [
        {
          "data": {
            "text/plain": [
              "count    94185.000000\n",
              "mean       459.007878\n",
              "std        382.101499\n",
              "min          0.000000\n",
              "25%          0.000000\n",
              "50%        740.000000\n",
              "75%        791.000000\n",
              "max        836.000000\n",
              "Name: co-borrower_credit_score, dtype: float64"
            ]
          },
          "execution_count": 40,
          "metadata": {},
          "output_type": "execute_result"
        }
      ],
      "source": [
        "data['co-borrower_credit_score'].describe()"
      ]
    },
    {
      "cell_type": "code",
      "execution_count": 41,
      "metadata": {
        "colab": {
          "base_uri": "https://localhost:8080/"
        },
        "id": "0N8NGZSrEGlU",
        "outputId": "9a1aee31-03d1-49ef-8dd6-53283e5b6859"
      },
      "outputs": [
        {
          "data": {
            "text/plain": [
              "0.0    93883\n",
              "1.0      302\n",
              "Name: insurance_type, dtype: int64"
            ]
          },
          "execution_count": 41,
          "metadata": {},
          "output_type": "execute_result"
        }
      ],
      "source": [
        "data['insurance_type'].value_counts()"
      ]
    },
    {
      "cell_type": "code",
      "execution_count": 42,
      "metadata": {
        "colab": {
          "base_uri": "https://localhost:8080/"
        },
        "id": "1PQ83WbWEZId",
        "outputId": "71e531f0-ded5-4e06-ba82-d7124d311ff6"
      },
      "outputs": [
        {
          "data": {
            "text/plain": [
              "Index(['loan_id', 'source', 'financial_institution', 'interest_rate',\n",
              "       'unpaid_principal_bal', 'loan_term', 'origination_date',\n",
              "       'first_payment_date', 'loan_to_value', 'number_of_borrowers',\n",
              "       'debt_to_income_ratio', 'borrower_credit_score', 'loan_purpose',\n",
              "       'insurance_percent', 'co-borrower_credit_score', 'insurance_type', 'm1',\n",
              "       'm2', 'm3', 'm4', 'm5', 'm6', 'm7', 'm8', 'm9', 'm10', 'm11', 'm12',\n",
              "       'm13'],\n",
              "      dtype='object')"
            ]
          },
          "execution_count": 42,
          "metadata": {},
          "output_type": "execute_result"
        }
      ],
      "source": [
        "data.columns"
      ]
    },
    {
      "cell_type": "code",
      "execution_count": 43,
      "metadata": {
        "id": "E63x0zx-rol6"
      },
      "outputs": [],
      "source": [
        "req_cols = ['source', 'financial_institution', 'interest_rate',\n",
        "       'unpaid_principal_bal', 'loan_term','loan_to_value', 'number_of_borrowers',\n",
        "       'debt_to_income_ratio', 'borrower_credit_score', 'loan_purpose',\n",
        "       'insurance_percent', 'co-borrower_credit_score', 'insurance_type', 'm1',\n",
        "       'm2', 'm3', 'm4', 'm5', 'm6', 'm7', 'm8', 'm9', 'm10', 'm11', 'm12',\n",
        "       'm13']"
      ]
    },
    {
      "cell_type": "code",
      "execution_count": 44,
      "metadata": {
        "colab": {
          "base_uri": "https://localhost:8080/"
        },
        "id": "OikQd91dr3po",
        "outputId": "6f4894fe-2f79-44cf-c9a1-c19c59209327"
      },
      "outputs": [
        {
          "data": {
            "text/plain": [
              "0.0    99.324733\n",
              "1.0     0.675267\n",
              "Name: m13, dtype: float64"
            ]
          },
          "execution_count": 44,
          "metadata": {},
          "output_type": "execute_result"
        }
      ],
      "source": [
        "x = data[req_cols]\n",
        "y=data['m13']\n",
        "y.value_counts(normalize=True)*100"
      ]
    },
    {
      "cell_type": "code",
      "execution_count": 45,
      "metadata": {
        "colab": {
          "base_uri": "https://localhost:8080/"
        },
        "id": "mHLN-vkjsEGk",
        "outputId": "49a2fe95-02f6-4370-e102-4c770e51f289"
      },
      "outputs": [
        {
          "data": {
            "text/plain": [
              "Index(['source', 'financial_institution', 'interest_rate',\n",
              "       'unpaid_principal_bal', 'loan_term', 'loan_to_value',\n",
              "       'number_of_borrowers', 'debt_to_income_ratio', 'borrower_credit_score',\n",
              "       'loan_purpose', 'insurance_percent', 'co-borrower_credit_score',\n",
              "       'insurance_type', 'm1', 'm2', 'm3', 'm4', 'm5', 'm6', 'm7', 'm8', 'm9',\n",
              "       'm10', 'm11', 'm12', 'm13'],\n",
              "      dtype='object')"
            ]
          },
          "execution_count": 45,
          "metadata": {},
          "output_type": "execute_result"
        }
      ],
      "source": [
        "x.columns"
      ]
    },
    {
      "cell_type": "code",
      "execution_count": 46,
      "metadata": {
        "colab": {
          "base_uri": "https://localhost:8080/"
        },
        "id": "9PWARdsdsTaj",
        "outputId": "41cebea9-1015-4677-fd1e-c31e7fa6127e"
      },
      "outputs": [
        {
          "data": {
            "text/plain": [
              "(94185, 26)"
            ]
          },
          "execution_count": 46,
          "metadata": {},
          "output_type": "execute_result"
        }
      ],
      "source": [
        "x.shape"
      ]
    },
    {
      "cell_type": "code",
      "execution_count": 47,
      "metadata": {
        "colab": {
          "base_uri": "https://localhost:8080/"
        },
        "id": "aZraKqx4sNhY",
        "outputId": "2fb86e21-b544-43aa-8344-41e3e22a7785"
      },
      "outputs": [
        {
          "name": "stdout",
          "output_type": "stream",
          "text": [
            "<class 'pandas.core.frame.DataFrame'>\n",
            "Int64Index: 94185 entries, 0 to 94228\n",
            "Data columns (total 48 columns):\n",
            " #   Column                                             Non-Null Count  Dtype  \n",
            "---  ------                                             --------------  -----  \n",
            " 0   interest_rate                                      94185 non-null  float64\n",
            " 1   unpaid_principal_bal                               94185 non-null  float64\n",
            " 2   loan_term                                          94185 non-null  float64\n",
            " 3   loan_to_value                                      94185 non-null  float64\n",
            " 4   number_of_borrowers                                94185 non-null  float64\n",
            " 5   debt_to_income_ratio                               94185 non-null  float64\n",
            " 6   borrower_credit_score                              94185 non-null  float64\n",
            " 7   insurance_percent                                  94185 non-null  float64\n",
            " 8   co-borrower_credit_score                           94185 non-null  float64\n",
            " 9   insurance_type                                     94185 non-null  float64\n",
            " 10  m1                                                 94185 non-null  float64\n",
            " 11  m2                                                 94185 non-null  float64\n",
            " 12  m3                                                 94185 non-null  float64\n",
            " 13  m4                                                 94185 non-null  float64\n",
            " 14  m5                                                 94185 non-null  float64\n",
            " 15  m6                                                 94185 non-null  float64\n",
            " 16  m7                                                 94185 non-null  float64\n",
            " 17  m8                                                 94185 non-null  float64\n",
            " 18  m9                                                 94185 non-null  float64\n",
            " 19  m10                                                94185 non-null  float64\n",
            " 20  m11                                                94185 non-null  float64\n",
            " 21  m12                                                94185 non-null  float64\n",
            " 22  m13                                                94185 non-null  float64\n",
            " 23  source_X                                           94185 non-null  uint8  \n",
            " 24  source_Y                                           94185 non-null  uint8  \n",
            " 25  source_Z                                           94185 non-null  uint8  \n",
            " 26  financial_institution_Anderson-Taylor              94185 non-null  uint8  \n",
            " 27  financial_institution_Browning-Hart                94185 non-null  uint8  \n",
            " 28  financial_institution_Chapman-Mcmahon              94185 non-null  uint8  \n",
            " 29  financial_institution_Cole, Brooks and Vincent     94185 non-null  uint8  \n",
            " 30  financial_institution_Edwards-Hoffman              94185 non-null  uint8  \n",
            " 31  financial_institution_Martinez, Duffy and Bird     94185 non-null  uint8  \n",
            " 32  financial_institution_Miller, Mcclure and Allen    94185 non-null  uint8  \n",
            " 33  financial_institution_Nicholson Group              94185 non-null  uint8  \n",
            " 34  financial_institution_OTHER                        94185 non-null  uint8  \n",
            " 35  financial_institution_Richards-Walters             94185 non-null  uint8  \n",
            " 36  financial_institution_Richardson Ltd               94185 non-null  uint8  \n",
            " 37  financial_institution_Romero, Woods and Johnson    94185 non-null  uint8  \n",
            " 38  financial_institution_Sanchez, Hays and Wilkerson  94185 non-null  uint8  \n",
            " 39  financial_institution_Sanchez-Robinson             94185 non-null  uint8  \n",
            " 40  financial_institution_Suarez Inc                   94185 non-null  uint8  \n",
            " 41  financial_institution_Swanson, Newton and Miller   94185 non-null  uint8  \n",
            " 42  financial_institution_Taylor, Hunt and Rodriguez   94185 non-null  uint8  \n",
            " 43  financial_institution_Thornton-Davis               94185 non-null  uint8  \n",
            " 44  financial_institution_Turner, Baldwin and Rhodes   94185 non-null  uint8  \n",
            " 45  loan_purpose_A23                                   94185 non-null  uint8  \n",
            " 46  loan_purpose_B12                                   94185 non-null  uint8  \n",
            " 47  loan_purpose_C86                                   94185 non-null  uint8  \n",
            "dtypes: float64(23), uint8(25)\n",
            "memory usage: 19.5 MB\n"
          ]
        }
      ],
      "source": [
        "x=pd.get_dummies(x)\n",
        "x.info()"
      ]
    },
    {
      "cell_type": "code",
      "execution_count": 48,
      "metadata": {
        "colab": {
          "base_uri": "https://localhost:8080/",
          "height": 411
        },
        "id": "ljYKN90YsXBu",
        "outputId": "70100745-7074-4d68-c7a8-12195ccc72fd"
      },
      "outputs": [
        {
          "data": {
            "text/html": [
              "\n",
              "  <div id=\"df-a5273bda-1673-463e-a791-13b0ecbda25c\">\n",
              "    <div class=\"colab-df-container\">\n",
              "      <div>\n",
              "<style scoped>\n",
              "    .dataframe tbody tr th:only-of-type {\n",
              "        vertical-align: middle;\n",
              "    }\n",
              "\n",
              "    .dataframe tbody tr th {\n",
              "        vertical-align: top;\n",
              "    }\n",
              "\n",
              "    .dataframe thead th {\n",
              "        text-align: right;\n",
              "    }\n",
              "</style>\n",
              "<table border=\"1\" class=\"dataframe\">\n",
              "  <thead>\n",
              "    <tr style=\"text-align: right;\">\n",
              "      <th></th>\n",
              "      <th>interest_rate</th>\n",
              "      <th>unpaid_principal_bal</th>\n",
              "      <th>loan_term</th>\n",
              "      <th>loan_to_value</th>\n",
              "      <th>number_of_borrowers</th>\n",
              "      <th>debt_to_income_ratio</th>\n",
              "      <th>borrower_credit_score</th>\n",
              "      <th>insurance_percent</th>\n",
              "      <th>co-borrower_credit_score</th>\n",
              "      <th>insurance_type</th>\n",
              "      <th>...</th>\n",
              "      <th>financial_institution_Sanchez, Hays and Wilkerson</th>\n",
              "      <th>financial_institution_Sanchez-Robinson</th>\n",
              "      <th>financial_institution_Suarez Inc</th>\n",
              "      <th>financial_institution_Swanson, Newton and Miller</th>\n",
              "      <th>financial_institution_Taylor, Hunt and Rodriguez</th>\n",
              "      <th>financial_institution_Thornton-Davis</th>\n",
              "      <th>financial_institution_Turner, Baldwin and Rhodes</th>\n",
              "      <th>loan_purpose_A23</th>\n",
              "      <th>loan_purpose_B12</th>\n",
              "      <th>loan_purpose_C86</th>\n",
              "    </tr>\n",
              "  </thead>\n",
              "  <tbody>\n",
              "    <tr>\n",
              "      <th>count</th>\n",
              "      <td>94185.000000</td>\n",
              "      <td>94185.000000</td>\n",
              "      <td>94185.000000</td>\n",
              "      <td>94185.000000</td>\n",
              "      <td>94185.000000</td>\n",
              "      <td>94185.000000</td>\n",
              "      <td>94185.000000</td>\n",
              "      <td>94185.000000</td>\n",
              "      <td>94185.000000</td>\n",
              "      <td>94185.000000</td>\n",
              "      <td>...</td>\n",
              "      <td>94185.000000</td>\n",
              "      <td>94185.000000</td>\n",
              "      <td>94185.000000</td>\n",
              "      <td>94185.000000</td>\n",
              "      <td>94185.000000</td>\n",
              "      <td>94185.000000</td>\n",
              "      <td>94185.000000</td>\n",
              "      <td>94185.000000</td>\n",
              "      <td>94185.000000</td>\n",
              "      <td>94185.000000</td>\n",
              "    </tr>\n",
              "    <tr>\n",
              "      <th>mean</th>\n",
              "      <td>3.868322</td>\n",
              "      <td>208447.980039</td>\n",
              "      <td>292.069682</td>\n",
              "      <td>67.401030</td>\n",
              "      <td>1.592324</td>\n",
              "      <td>30.740946</td>\n",
              "      <td>770.244052</td>\n",
              "      <td>2.782704</td>\n",
              "      <td>459.007878</td>\n",
              "      <td>0.003206</td>\n",
              "      <td>...</td>\n",
              "      <td>0.007358</td>\n",
              "      <td>0.010405</td>\n",
              "      <td>0.015554</td>\n",
              "      <td>0.058470</td>\n",
              "      <td>0.010915</td>\n",
              "      <td>0.005680</td>\n",
              "      <td>0.016149</td>\n",
              "      <td>0.504666</td>\n",
              "      <td>0.252715</td>\n",
              "      <td>0.242618</td>\n",
              "    </tr>\n",
              "    <tr>\n",
              "      <th>std</th>\n",
              "      <td>0.460701</td>\n",
              "      <td>114864.814025</td>\n",
              "      <td>89.798180</td>\n",
              "      <td>17.309052</td>\n",
              "      <td>0.491405</td>\n",
              "      <td>9.722317</td>\n",
              "      <td>39.010839</td>\n",
              "      <td>8.089159</td>\n",
              "      <td>382.101499</td>\n",
              "      <td>0.056535</td>\n",
              "      <td>...</td>\n",
              "      <td>0.085462</td>\n",
              "      <td>0.101474</td>\n",
              "      <td>0.123745</td>\n",
              "      <td>0.234631</td>\n",
              "      <td>0.103902</td>\n",
              "      <td>0.075154</td>\n",
              "      <td>0.126049</td>\n",
              "      <td>0.499981</td>\n",
              "      <td>0.434571</td>\n",
              "      <td>0.428668</td>\n",
              "    </tr>\n",
              "    <tr>\n",
              "      <th>min</th>\n",
              "      <td>2.375000</td>\n",
              "      <td>11000.000000</td>\n",
              "      <td>60.000000</td>\n",
              "      <td>6.000000</td>\n",
              "      <td>1.000000</td>\n",
              "      <td>1.000000</td>\n",
              "      <td>480.000000</td>\n",
              "      <td>0.000000</td>\n",
              "      <td>0.000000</td>\n",
              "      <td>0.000000</td>\n",
              "      <td>...</td>\n",
              "      <td>0.000000</td>\n",
              "      <td>0.000000</td>\n",
              "      <td>0.000000</td>\n",
              "      <td>0.000000</td>\n",
              "      <td>0.000000</td>\n",
              "      <td>0.000000</td>\n",
              "      <td>0.000000</td>\n",
              "      <td>0.000000</td>\n",
              "      <td>0.000000</td>\n",
              "      <td>0.000000</td>\n",
              "    </tr>\n",
              "    <tr>\n",
              "      <th>25%</th>\n",
              "      <td>3.500000</td>\n",
              "      <td>120000.000000</td>\n",
              "      <td>180.000000</td>\n",
              "      <td>57.000000</td>\n",
              "      <td>1.000000</td>\n",
              "      <td>23.000000</td>\n",
              "      <td>751.000000</td>\n",
              "      <td>0.000000</td>\n",
              "      <td>0.000000</td>\n",
              "      <td>0.000000</td>\n",
              "      <td>...</td>\n",
              "      <td>0.000000</td>\n",
              "      <td>0.000000</td>\n",
              "      <td>0.000000</td>\n",
              "      <td>0.000000</td>\n",
              "      <td>0.000000</td>\n",
              "      <td>0.000000</td>\n",
              "      <td>0.000000</td>\n",
              "      <td>0.000000</td>\n",
              "      <td>0.000000</td>\n",
              "      <td>0.000000</td>\n",
              "    </tr>\n",
              "    <tr>\n",
              "      <th>50%</th>\n",
              "      <td>3.875000</td>\n",
              "      <td>183000.000000</td>\n",
              "      <td>360.000000</td>\n",
              "      <td>72.000000</td>\n",
              "      <td>2.000000</td>\n",
              "      <td>31.000000</td>\n",
              "      <td>782.000000</td>\n",
              "      <td>0.000000</td>\n",
              "      <td>740.000000</td>\n",
              "      <td>0.000000</td>\n",
              "      <td>...</td>\n",
              "      <td>0.000000</td>\n",
              "      <td>0.000000</td>\n",
              "      <td>0.000000</td>\n",
              "      <td>0.000000</td>\n",
              "      <td>0.000000</td>\n",
              "      <td>0.000000</td>\n",
              "      <td>0.000000</td>\n",
              "      <td>1.000000</td>\n",
              "      <td>0.000000</td>\n",
              "      <td>0.000000</td>\n",
              "    </tr>\n",
              "    <tr>\n",
              "      <th>75%</th>\n",
              "      <td>4.125000</td>\n",
              "      <td>279000.000000</td>\n",
              "      <td>360.000000</td>\n",
              "      <td>80.000000</td>\n",
              "      <td>2.000000</td>\n",
              "      <td>39.000000</td>\n",
              "      <td>800.000000</td>\n",
              "      <td>0.000000</td>\n",
              "      <td>791.000000</td>\n",
              "      <td>0.000000</td>\n",
              "      <td>...</td>\n",
              "      <td>0.000000</td>\n",
              "      <td>0.000000</td>\n",
              "      <td>0.000000</td>\n",
              "      <td>0.000000</td>\n",
              "      <td>0.000000</td>\n",
              "      <td>0.000000</td>\n",
              "      <td>0.000000</td>\n",
              "      <td>1.000000</td>\n",
              "      <td>1.000000</td>\n",
              "      <td>0.000000</td>\n",
              "    </tr>\n",
              "    <tr>\n",
              "      <th>max</th>\n",
              "      <td>6.625000</td>\n",
              "      <td>968000.000000</td>\n",
              "      <td>360.000000</td>\n",
              "      <td>97.000000</td>\n",
              "      <td>2.000000</td>\n",
              "      <td>61.000000</td>\n",
              "      <td>840.000000</td>\n",
              "      <td>40.000000</td>\n",
              "      <td>836.000000</td>\n",
              "      <td>1.000000</td>\n",
              "      <td>...</td>\n",
              "      <td>1.000000</td>\n",
              "      <td>1.000000</td>\n",
              "      <td>1.000000</td>\n",
              "      <td>1.000000</td>\n",
              "      <td>1.000000</td>\n",
              "      <td>1.000000</td>\n",
              "      <td>1.000000</td>\n",
              "      <td>1.000000</td>\n",
              "      <td>1.000000</td>\n",
              "      <td>1.000000</td>\n",
              "    </tr>\n",
              "  </tbody>\n",
              "</table>\n",
              "<p>8 rows × 48 columns</p>\n",
              "</div>\n",
              "      <button class=\"colab-df-convert\" onclick=\"convertToInteractive('df-a5273bda-1673-463e-a791-13b0ecbda25c')\"\n",
              "              title=\"Convert this dataframe to an interactive table.\"\n",
              "              style=\"display:none;\">\n",
              "        \n",
              "  <svg xmlns=\"http://www.w3.org/2000/svg\" height=\"24px\"viewBox=\"0 0 24 24\"\n",
              "       width=\"24px\">\n",
              "    <path d=\"M0 0h24v24H0V0z\" fill=\"none\"/>\n",
              "    <path d=\"M18.56 5.44l.94 2.06.94-2.06 2.06-.94-2.06-.94-.94-2.06-.94 2.06-2.06.94zm-11 1L8.5 8.5l.94-2.06 2.06-.94-2.06-.94L8.5 2.5l-.94 2.06-2.06.94zm10 10l.94 2.06.94-2.06 2.06-.94-2.06-.94-.94-2.06-.94 2.06-2.06.94z\"/><path d=\"M17.41 7.96l-1.37-1.37c-.4-.4-.92-.59-1.43-.59-.52 0-1.04.2-1.43.59L10.3 9.45l-7.72 7.72c-.78.78-.78 2.05 0 2.83L4 21.41c.39.39.9.59 1.41.59.51 0 1.02-.2 1.41-.59l7.78-7.78 2.81-2.81c.8-.78.8-2.07 0-2.86zM5.41 20L4 18.59l7.72-7.72 1.47 1.35L5.41 20z\"/>\n",
              "  </svg>\n",
              "      </button>\n",
              "      \n",
              "  <style>\n",
              "    .colab-df-container {\n",
              "      display:flex;\n",
              "      flex-wrap:wrap;\n",
              "      gap: 12px;\n",
              "    }\n",
              "\n",
              "    .colab-df-convert {\n",
              "      background-color: #E8F0FE;\n",
              "      border: none;\n",
              "      border-radius: 50%;\n",
              "      cursor: pointer;\n",
              "      display: none;\n",
              "      fill: #1967D2;\n",
              "      height: 32px;\n",
              "      padding: 0 0 0 0;\n",
              "      width: 32px;\n",
              "    }\n",
              "\n",
              "    .colab-df-convert:hover {\n",
              "      background-color: #E2EBFA;\n",
              "      box-shadow: 0px 1px 2px rgba(60, 64, 67, 0.3), 0px 1px 3px 1px rgba(60, 64, 67, 0.15);\n",
              "      fill: #174EA6;\n",
              "    }\n",
              "\n",
              "    [theme=dark] .colab-df-convert {\n",
              "      background-color: #3B4455;\n",
              "      fill: #D2E3FC;\n",
              "    }\n",
              "\n",
              "    [theme=dark] .colab-df-convert:hover {\n",
              "      background-color: #434B5C;\n",
              "      box-shadow: 0px 1px 3px 1px rgba(0, 0, 0, 0.15);\n",
              "      filter: drop-shadow(0px 1px 2px rgba(0, 0, 0, 0.3));\n",
              "      fill: #FFFFFF;\n",
              "    }\n",
              "  </style>\n",
              "\n",
              "      <script>\n",
              "        const buttonEl =\n",
              "          document.querySelector('#df-a5273bda-1673-463e-a791-13b0ecbda25c button.colab-df-convert');\n",
              "        buttonEl.style.display =\n",
              "          google.colab.kernel.accessAllowed ? 'block' : 'none';\n",
              "\n",
              "        async function convertToInteractive(key) {\n",
              "          const element = document.querySelector('#df-a5273bda-1673-463e-a791-13b0ecbda25c');\n",
              "          const dataTable =\n",
              "            await google.colab.kernel.invokeFunction('convertToInteractive',\n",
              "                                                     [key], {});\n",
              "          if (!dataTable) return;\n",
              "\n",
              "          const docLinkHtml = 'Like what you see? Visit the ' +\n",
              "            '<a target=\"_blank\" href=https://colab.research.google.com/notebooks/data_table.ipynb>data table notebook</a>'\n",
              "            + ' to learn more about interactive tables.';\n",
              "          element.innerHTML = '';\n",
              "          dataTable['output_type'] = 'display_data';\n",
              "          await google.colab.output.renderOutput(dataTable, element);\n",
              "          const docLink = document.createElement('div');\n",
              "          docLink.innerHTML = docLinkHtml;\n",
              "          element.appendChild(docLink);\n",
              "        }\n",
              "      </script>\n",
              "    </div>\n",
              "  </div>\n",
              "  "
            ],
            "text/plain": [
              "       interest_rate  unpaid_principal_bal     loan_term  loan_to_value  \\\n",
              "count   94185.000000          94185.000000  94185.000000   94185.000000   \n",
              "mean        3.868322         208447.980039    292.069682      67.401030   \n",
              "std         0.460701         114864.814025     89.798180      17.309052   \n",
              "min         2.375000          11000.000000     60.000000       6.000000   \n",
              "25%         3.500000         120000.000000    180.000000      57.000000   \n",
              "50%         3.875000         183000.000000    360.000000      72.000000   \n",
              "75%         4.125000         279000.000000    360.000000      80.000000   \n",
              "max         6.625000         968000.000000    360.000000      97.000000   \n",
              "\n",
              "       number_of_borrowers  debt_to_income_ratio  borrower_credit_score  \\\n",
              "count         94185.000000          94185.000000           94185.000000   \n",
              "mean              1.592324             30.740946             770.244052   \n",
              "std               0.491405              9.722317              39.010839   \n",
              "min               1.000000              1.000000             480.000000   \n",
              "25%               1.000000             23.000000             751.000000   \n",
              "50%               2.000000             31.000000             782.000000   \n",
              "75%               2.000000             39.000000             800.000000   \n",
              "max               2.000000             61.000000             840.000000   \n",
              "\n",
              "       insurance_percent  co-borrower_credit_score  insurance_type  ...  \\\n",
              "count       94185.000000              94185.000000    94185.000000  ...   \n",
              "mean            2.782704                459.007878        0.003206  ...   \n",
              "std             8.089159                382.101499        0.056535  ...   \n",
              "min             0.000000                  0.000000        0.000000  ...   \n",
              "25%             0.000000                  0.000000        0.000000  ...   \n",
              "50%             0.000000                740.000000        0.000000  ...   \n",
              "75%             0.000000                791.000000        0.000000  ...   \n",
              "max            40.000000                836.000000        1.000000  ...   \n",
              "\n",
              "       financial_institution_Sanchez, Hays and Wilkerson  \\\n",
              "count                                       94185.000000   \n",
              "mean                                            0.007358   \n",
              "std                                             0.085462   \n",
              "min                                             0.000000   \n",
              "25%                                             0.000000   \n",
              "50%                                             0.000000   \n",
              "75%                                             0.000000   \n",
              "max                                             1.000000   \n",
              "\n",
              "       financial_institution_Sanchez-Robinson  \\\n",
              "count                            94185.000000   \n",
              "mean                                 0.010405   \n",
              "std                                  0.101474   \n",
              "min                                  0.000000   \n",
              "25%                                  0.000000   \n",
              "50%                                  0.000000   \n",
              "75%                                  0.000000   \n",
              "max                                  1.000000   \n",
              "\n",
              "       financial_institution_Suarez Inc  \\\n",
              "count                      94185.000000   \n",
              "mean                           0.015554   \n",
              "std                            0.123745   \n",
              "min                            0.000000   \n",
              "25%                            0.000000   \n",
              "50%                            0.000000   \n",
              "75%                            0.000000   \n",
              "max                            1.000000   \n",
              "\n",
              "       financial_institution_Swanson, Newton and Miller  \\\n",
              "count                                      94185.000000   \n",
              "mean                                           0.058470   \n",
              "std                                            0.234631   \n",
              "min                                            0.000000   \n",
              "25%                                            0.000000   \n",
              "50%                                            0.000000   \n",
              "75%                                            0.000000   \n",
              "max                                            1.000000   \n",
              "\n",
              "       financial_institution_Taylor, Hunt and Rodriguez  \\\n",
              "count                                      94185.000000   \n",
              "mean                                           0.010915   \n",
              "std                                            0.103902   \n",
              "min                                            0.000000   \n",
              "25%                                            0.000000   \n",
              "50%                                            0.000000   \n",
              "75%                                            0.000000   \n",
              "max                                            1.000000   \n",
              "\n",
              "       financial_institution_Thornton-Davis  \\\n",
              "count                          94185.000000   \n",
              "mean                               0.005680   \n",
              "std                                0.075154   \n",
              "min                                0.000000   \n",
              "25%                                0.000000   \n",
              "50%                                0.000000   \n",
              "75%                                0.000000   \n",
              "max                                1.000000   \n",
              "\n",
              "       financial_institution_Turner, Baldwin and Rhodes  loan_purpose_A23  \\\n",
              "count                                      94185.000000      94185.000000   \n",
              "mean                                           0.016149          0.504666   \n",
              "std                                            0.126049          0.499981   \n",
              "min                                            0.000000          0.000000   \n",
              "25%                                            0.000000          0.000000   \n",
              "50%                                            0.000000          1.000000   \n",
              "75%                                            0.000000          1.000000   \n",
              "max                                            1.000000          1.000000   \n",
              "\n",
              "       loan_purpose_B12  loan_purpose_C86  \n",
              "count      94185.000000      94185.000000  \n",
              "mean           0.252715          0.242618  \n",
              "std            0.434571          0.428668  \n",
              "min            0.000000          0.000000  \n",
              "25%            0.000000          0.000000  \n",
              "50%            0.000000          0.000000  \n",
              "75%            1.000000          0.000000  \n",
              "max            1.000000          1.000000  \n",
              "\n",
              "[8 rows x 48 columns]"
            ]
          },
          "execution_count": 48,
          "metadata": {},
          "output_type": "execute_result"
        }
      ],
      "source": [
        "x.describe()"
      ]
    },
    {
      "cell_type": "code",
      "execution_count": 49,
      "metadata": {
        "colab": {
          "base_uri": "https://localhost:8080/",
          "height": 411
        },
        "id": "ch27NYJzFA38",
        "outputId": "b716cabb-6b6e-44da-df57-a121eaeffe6b"
      },
      "outputs": [
        {
          "data": {
            "text/html": [
              "\n",
              "  <div id=\"df-af991cc6-aa87-472f-b729-8ce32e1283ce\">\n",
              "    <div class=\"colab-df-container\">\n",
              "      <div>\n",
              "<style scoped>\n",
              "    .dataframe tbody tr th:only-of-type {\n",
              "        vertical-align: middle;\n",
              "    }\n",
              "\n",
              "    .dataframe tbody tr th {\n",
              "        vertical-align: top;\n",
              "    }\n",
              "\n",
              "    .dataframe thead th {\n",
              "        text-align: right;\n",
              "    }\n",
              "</style>\n",
              "<table border=\"1\" class=\"dataframe\">\n",
              "  <thead>\n",
              "    <tr style=\"text-align: right;\">\n",
              "      <th></th>\n",
              "      <th>interest_rate</th>\n",
              "      <th>unpaid_principal_bal</th>\n",
              "      <th>loan_term</th>\n",
              "      <th>loan_to_value</th>\n",
              "      <th>number_of_borrowers</th>\n",
              "      <th>debt_to_income_ratio</th>\n",
              "      <th>borrower_credit_score</th>\n",
              "      <th>insurance_percent</th>\n",
              "      <th>co-borrower_credit_score</th>\n",
              "      <th>insurance_type</th>\n",
              "      <th>...</th>\n",
              "      <th>financial_institution_Sanchez, Hays and Wilkerson</th>\n",
              "      <th>financial_institution_Sanchez-Robinson</th>\n",
              "      <th>financial_institution_Suarez Inc</th>\n",
              "      <th>financial_institution_Swanson, Newton and Miller</th>\n",
              "      <th>financial_institution_Taylor, Hunt and Rodriguez</th>\n",
              "      <th>financial_institution_Thornton-Davis</th>\n",
              "      <th>financial_institution_Turner, Baldwin and Rhodes</th>\n",
              "      <th>loan_purpose_A23</th>\n",
              "      <th>loan_purpose_B12</th>\n",
              "      <th>loan_purpose_C86</th>\n",
              "    </tr>\n",
              "  </thead>\n",
              "  <tbody>\n",
              "    <tr>\n",
              "      <th>count</th>\n",
              "      <td>94185.000000</td>\n",
              "      <td>94185.000000</td>\n",
              "      <td>94185.000000</td>\n",
              "      <td>94185.000000</td>\n",
              "      <td>94185.000000</td>\n",
              "      <td>94185.000000</td>\n",
              "      <td>94185.000000</td>\n",
              "      <td>94185.000000</td>\n",
              "      <td>94185.000000</td>\n",
              "      <td>94185.000000</td>\n",
              "      <td>...</td>\n",
              "      <td>94185.000000</td>\n",
              "      <td>94185.000000</td>\n",
              "      <td>94185.000000</td>\n",
              "      <td>94185.000000</td>\n",
              "      <td>94185.000000</td>\n",
              "      <td>94185.000000</td>\n",
              "      <td>94185.000000</td>\n",
              "      <td>94185.000000</td>\n",
              "      <td>94185.000000</td>\n",
              "      <td>94185.000000</td>\n",
              "    </tr>\n",
              "    <tr>\n",
              "      <th>mean</th>\n",
              "      <td>3.868322</td>\n",
              "      <td>208447.980039</td>\n",
              "      <td>292.069682</td>\n",
              "      <td>67.401030</td>\n",
              "      <td>1.592324</td>\n",
              "      <td>30.740946</td>\n",
              "      <td>770.244052</td>\n",
              "      <td>2.782704</td>\n",
              "      <td>459.007878</td>\n",
              "      <td>0.003206</td>\n",
              "      <td>...</td>\n",
              "      <td>0.007358</td>\n",
              "      <td>0.010405</td>\n",
              "      <td>0.015554</td>\n",
              "      <td>0.058470</td>\n",
              "      <td>0.010915</td>\n",
              "      <td>0.005680</td>\n",
              "      <td>0.016149</td>\n",
              "      <td>0.504666</td>\n",
              "      <td>0.252715</td>\n",
              "      <td>0.242618</td>\n",
              "    </tr>\n",
              "    <tr>\n",
              "      <th>std</th>\n",
              "      <td>0.460701</td>\n",
              "      <td>114864.814025</td>\n",
              "      <td>89.798180</td>\n",
              "      <td>17.309052</td>\n",
              "      <td>0.491405</td>\n",
              "      <td>9.722317</td>\n",
              "      <td>39.010839</td>\n",
              "      <td>8.089159</td>\n",
              "      <td>382.101499</td>\n",
              "      <td>0.056535</td>\n",
              "      <td>...</td>\n",
              "      <td>0.085462</td>\n",
              "      <td>0.101474</td>\n",
              "      <td>0.123745</td>\n",
              "      <td>0.234631</td>\n",
              "      <td>0.103902</td>\n",
              "      <td>0.075154</td>\n",
              "      <td>0.126049</td>\n",
              "      <td>0.499981</td>\n",
              "      <td>0.434571</td>\n",
              "      <td>0.428668</td>\n",
              "    </tr>\n",
              "    <tr>\n",
              "      <th>min</th>\n",
              "      <td>2.375000</td>\n",
              "      <td>11000.000000</td>\n",
              "      <td>60.000000</td>\n",
              "      <td>6.000000</td>\n",
              "      <td>1.000000</td>\n",
              "      <td>1.000000</td>\n",
              "      <td>480.000000</td>\n",
              "      <td>0.000000</td>\n",
              "      <td>0.000000</td>\n",
              "      <td>0.000000</td>\n",
              "      <td>...</td>\n",
              "      <td>0.000000</td>\n",
              "      <td>0.000000</td>\n",
              "      <td>0.000000</td>\n",
              "      <td>0.000000</td>\n",
              "      <td>0.000000</td>\n",
              "      <td>0.000000</td>\n",
              "      <td>0.000000</td>\n",
              "      <td>0.000000</td>\n",
              "      <td>0.000000</td>\n",
              "      <td>0.000000</td>\n",
              "    </tr>\n",
              "    <tr>\n",
              "      <th>25%</th>\n",
              "      <td>3.500000</td>\n",
              "      <td>120000.000000</td>\n",
              "      <td>180.000000</td>\n",
              "      <td>57.000000</td>\n",
              "      <td>1.000000</td>\n",
              "      <td>23.000000</td>\n",
              "      <td>751.000000</td>\n",
              "      <td>0.000000</td>\n",
              "      <td>0.000000</td>\n",
              "      <td>0.000000</td>\n",
              "      <td>...</td>\n",
              "      <td>0.000000</td>\n",
              "      <td>0.000000</td>\n",
              "      <td>0.000000</td>\n",
              "      <td>0.000000</td>\n",
              "      <td>0.000000</td>\n",
              "      <td>0.000000</td>\n",
              "      <td>0.000000</td>\n",
              "      <td>0.000000</td>\n",
              "      <td>0.000000</td>\n",
              "      <td>0.000000</td>\n",
              "    </tr>\n",
              "    <tr>\n",
              "      <th>50%</th>\n",
              "      <td>3.875000</td>\n",
              "      <td>183000.000000</td>\n",
              "      <td>360.000000</td>\n",
              "      <td>72.000000</td>\n",
              "      <td>2.000000</td>\n",
              "      <td>31.000000</td>\n",
              "      <td>782.000000</td>\n",
              "      <td>0.000000</td>\n",
              "      <td>740.000000</td>\n",
              "      <td>0.000000</td>\n",
              "      <td>...</td>\n",
              "      <td>0.000000</td>\n",
              "      <td>0.000000</td>\n",
              "      <td>0.000000</td>\n",
              "      <td>0.000000</td>\n",
              "      <td>0.000000</td>\n",
              "      <td>0.000000</td>\n",
              "      <td>0.000000</td>\n",
              "      <td>1.000000</td>\n",
              "      <td>0.000000</td>\n",
              "      <td>0.000000</td>\n",
              "    </tr>\n",
              "    <tr>\n",
              "      <th>75%</th>\n",
              "      <td>4.125000</td>\n",
              "      <td>279000.000000</td>\n",
              "      <td>360.000000</td>\n",
              "      <td>80.000000</td>\n",
              "      <td>2.000000</td>\n",
              "      <td>39.000000</td>\n",
              "      <td>800.000000</td>\n",
              "      <td>0.000000</td>\n",
              "      <td>791.000000</td>\n",
              "      <td>0.000000</td>\n",
              "      <td>...</td>\n",
              "      <td>0.000000</td>\n",
              "      <td>0.000000</td>\n",
              "      <td>0.000000</td>\n",
              "      <td>0.000000</td>\n",
              "      <td>0.000000</td>\n",
              "      <td>0.000000</td>\n",
              "      <td>0.000000</td>\n",
              "      <td>1.000000</td>\n",
              "      <td>1.000000</td>\n",
              "      <td>0.000000</td>\n",
              "    </tr>\n",
              "    <tr>\n",
              "      <th>max</th>\n",
              "      <td>6.625000</td>\n",
              "      <td>968000.000000</td>\n",
              "      <td>360.000000</td>\n",
              "      <td>97.000000</td>\n",
              "      <td>2.000000</td>\n",
              "      <td>61.000000</td>\n",
              "      <td>840.000000</td>\n",
              "      <td>40.000000</td>\n",
              "      <td>836.000000</td>\n",
              "      <td>1.000000</td>\n",
              "      <td>...</td>\n",
              "      <td>1.000000</td>\n",
              "      <td>1.000000</td>\n",
              "      <td>1.000000</td>\n",
              "      <td>1.000000</td>\n",
              "      <td>1.000000</td>\n",
              "      <td>1.000000</td>\n",
              "      <td>1.000000</td>\n",
              "      <td>1.000000</td>\n",
              "      <td>1.000000</td>\n",
              "      <td>1.000000</td>\n",
              "    </tr>\n",
              "  </tbody>\n",
              "</table>\n",
              "<p>8 rows × 48 columns</p>\n",
              "</div>\n",
              "      <button class=\"colab-df-convert\" onclick=\"convertToInteractive('df-af991cc6-aa87-472f-b729-8ce32e1283ce')\"\n",
              "              title=\"Convert this dataframe to an interactive table.\"\n",
              "              style=\"display:none;\">\n",
              "        \n",
              "  <svg xmlns=\"http://www.w3.org/2000/svg\" height=\"24px\"viewBox=\"0 0 24 24\"\n",
              "       width=\"24px\">\n",
              "    <path d=\"M0 0h24v24H0V0z\" fill=\"none\"/>\n",
              "    <path d=\"M18.56 5.44l.94 2.06.94-2.06 2.06-.94-2.06-.94-.94-2.06-.94 2.06-2.06.94zm-11 1L8.5 8.5l.94-2.06 2.06-.94-2.06-.94L8.5 2.5l-.94 2.06-2.06.94zm10 10l.94 2.06.94-2.06 2.06-.94-2.06-.94-.94-2.06-.94 2.06-2.06.94z\"/><path d=\"M17.41 7.96l-1.37-1.37c-.4-.4-.92-.59-1.43-.59-.52 0-1.04.2-1.43.59L10.3 9.45l-7.72 7.72c-.78.78-.78 2.05 0 2.83L4 21.41c.39.39.9.59 1.41.59.51 0 1.02-.2 1.41-.59l7.78-7.78 2.81-2.81c.8-.78.8-2.07 0-2.86zM5.41 20L4 18.59l7.72-7.72 1.47 1.35L5.41 20z\"/>\n",
              "  </svg>\n",
              "      </button>\n",
              "      \n",
              "  <style>\n",
              "    .colab-df-container {\n",
              "      display:flex;\n",
              "      flex-wrap:wrap;\n",
              "      gap: 12px;\n",
              "    }\n",
              "\n",
              "    .colab-df-convert {\n",
              "      background-color: #E8F0FE;\n",
              "      border: none;\n",
              "      border-radius: 50%;\n",
              "      cursor: pointer;\n",
              "      display: none;\n",
              "      fill: #1967D2;\n",
              "      height: 32px;\n",
              "      padding: 0 0 0 0;\n",
              "      width: 32px;\n",
              "    }\n",
              "\n",
              "    .colab-df-convert:hover {\n",
              "      background-color: #E2EBFA;\n",
              "      box-shadow: 0px 1px 2px rgba(60, 64, 67, 0.3), 0px 1px 3px 1px rgba(60, 64, 67, 0.15);\n",
              "      fill: #174EA6;\n",
              "    }\n",
              "\n",
              "    [theme=dark] .colab-df-convert {\n",
              "      background-color: #3B4455;\n",
              "      fill: #D2E3FC;\n",
              "    }\n",
              "\n",
              "    [theme=dark] .colab-df-convert:hover {\n",
              "      background-color: #434B5C;\n",
              "      box-shadow: 0px 1px 3px 1px rgba(0, 0, 0, 0.15);\n",
              "      filter: drop-shadow(0px 1px 2px rgba(0, 0, 0, 0.3));\n",
              "      fill: #FFFFFF;\n",
              "    }\n",
              "  </style>\n",
              "\n",
              "      <script>\n",
              "        const buttonEl =\n",
              "          document.querySelector('#df-af991cc6-aa87-472f-b729-8ce32e1283ce button.colab-df-convert');\n",
              "        buttonEl.style.display =\n",
              "          google.colab.kernel.accessAllowed ? 'block' : 'none';\n",
              "\n",
              "        async function convertToInteractive(key) {\n",
              "          const element = document.querySelector('#df-af991cc6-aa87-472f-b729-8ce32e1283ce');\n",
              "          const dataTable =\n",
              "            await google.colab.kernel.invokeFunction('convertToInteractive',\n",
              "                                                     [key], {});\n",
              "          if (!dataTable) return;\n",
              "\n",
              "          const docLinkHtml = 'Like what you see? Visit the ' +\n",
              "            '<a target=\"_blank\" href=https://colab.research.google.com/notebooks/data_table.ipynb>data table notebook</a>'\n",
              "            + ' to learn more about interactive tables.';\n",
              "          element.innerHTML = '';\n",
              "          dataTable['output_type'] = 'display_data';\n",
              "          await google.colab.output.renderOutput(dataTable, element);\n",
              "          const docLink = document.createElement('div');\n",
              "          docLink.innerHTML = docLinkHtml;\n",
              "          element.appendChild(docLink);\n",
              "        }\n",
              "      </script>\n",
              "    </div>\n",
              "  </div>\n",
              "  "
            ],
            "text/plain": [
              "       interest_rate  unpaid_principal_bal     loan_term  loan_to_value  \\\n",
              "count   94185.000000          94185.000000  94185.000000   94185.000000   \n",
              "mean        3.868322         208447.980039    292.069682      67.401030   \n",
              "std         0.460701         114864.814025     89.798180      17.309052   \n",
              "min         2.375000          11000.000000     60.000000       6.000000   \n",
              "25%         3.500000         120000.000000    180.000000      57.000000   \n",
              "50%         3.875000         183000.000000    360.000000      72.000000   \n",
              "75%         4.125000         279000.000000    360.000000      80.000000   \n",
              "max         6.625000         968000.000000    360.000000      97.000000   \n",
              "\n",
              "       number_of_borrowers  debt_to_income_ratio  borrower_credit_score  \\\n",
              "count         94185.000000          94185.000000           94185.000000   \n",
              "mean              1.592324             30.740946             770.244052   \n",
              "std               0.491405              9.722317              39.010839   \n",
              "min               1.000000              1.000000             480.000000   \n",
              "25%               1.000000             23.000000             751.000000   \n",
              "50%               2.000000             31.000000             782.000000   \n",
              "75%               2.000000             39.000000             800.000000   \n",
              "max               2.000000             61.000000             840.000000   \n",
              "\n",
              "       insurance_percent  co-borrower_credit_score  insurance_type  ...  \\\n",
              "count       94185.000000              94185.000000    94185.000000  ...   \n",
              "mean            2.782704                459.007878        0.003206  ...   \n",
              "std             8.089159                382.101499        0.056535  ...   \n",
              "min             0.000000                  0.000000        0.000000  ...   \n",
              "25%             0.000000                  0.000000        0.000000  ...   \n",
              "50%             0.000000                740.000000        0.000000  ...   \n",
              "75%             0.000000                791.000000        0.000000  ...   \n",
              "max            40.000000                836.000000        1.000000  ...   \n",
              "\n",
              "       financial_institution_Sanchez, Hays and Wilkerson  \\\n",
              "count                                       94185.000000   \n",
              "mean                                            0.007358   \n",
              "std                                             0.085462   \n",
              "min                                             0.000000   \n",
              "25%                                             0.000000   \n",
              "50%                                             0.000000   \n",
              "75%                                             0.000000   \n",
              "max                                             1.000000   \n",
              "\n",
              "       financial_institution_Sanchez-Robinson  \\\n",
              "count                            94185.000000   \n",
              "mean                                 0.010405   \n",
              "std                                  0.101474   \n",
              "min                                  0.000000   \n",
              "25%                                  0.000000   \n",
              "50%                                  0.000000   \n",
              "75%                                  0.000000   \n",
              "max                                  1.000000   \n",
              "\n",
              "       financial_institution_Suarez Inc  \\\n",
              "count                      94185.000000   \n",
              "mean                           0.015554   \n",
              "std                            0.123745   \n",
              "min                            0.000000   \n",
              "25%                            0.000000   \n",
              "50%                            0.000000   \n",
              "75%                            0.000000   \n",
              "max                            1.000000   \n",
              "\n",
              "       financial_institution_Swanson, Newton and Miller  \\\n",
              "count                                      94185.000000   \n",
              "mean                                           0.058470   \n",
              "std                                            0.234631   \n",
              "min                                            0.000000   \n",
              "25%                                            0.000000   \n",
              "50%                                            0.000000   \n",
              "75%                                            0.000000   \n",
              "max                                            1.000000   \n",
              "\n",
              "       financial_institution_Taylor, Hunt and Rodriguez  \\\n",
              "count                                      94185.000000   \n",
              "mean                                           0.010915   \n",
              "std                                            0.103902   \n",
              "min                                            0.000000   \n",
              "25%                                            0.000000   \n",
              "50%                                            0.000000   \n",
              "75%                                            0.000000   \n",
              "max                                            1.000000   \n",
              "\n",
              "       financial_institution_Thornton-Davis  \\\n",
              "count                          94185.000000   \n",
              "mean                               0.005680   \n",
              "std                                0.075154   \n",
              "min                                0.000000   \n",
              "25%                                0.000000   \n",
              "50%                                0.000000   \n",
              "75%                                0.000000   \n",
              "max                                1.000000   \n",
              "\n",
              "       financial_institution_Turner, Baldwin and Rhodes  loan_purpose_A23  \\\n",
              "count                                      94185.000000      94185.000000   \n",
              "mean                                           0.016149          0.504666   \n",
              "std                                            0.126049          0.499981   \n",
              "min                                            0.000000          0.000000   \n",
              "25%                                            0.000000          0.000000   \n",
              "50%                                            0.000000          1.000000   \n",
              "75%                                            0.000000          1.000000   \n",
              "max                                            1.000000          1.000000   \n",
              "\n",
              "       loan_purpose_B12  loan_purpose_C86  \n",
              "count      94185.000000      94185.000000  \n",
              "mean           0.252715          0.242618  \n",
              "std            0.434571          0.428668  \n",
              "min            0.000000          0.000000  \n",
              "25%            0.000000          0.000000  \n",
              "50%            0.000000          0.000000  \n",
              "75%            1.000000          0.000000  \n",
              "max            1.000000          1.000000  \n",
              "\n",
              "[8 rows x 48 columns]"
            ]
          },
          "execution_count": 49,
          "metadata": {},
          "output_type": "execute_result"
        }
      ],
      "source": [
        "x.describe()"
      ]
    },
    {
      "cell_type": "code",
      "execution_count": 50,
      "metadata": {
        "id": "DK_YAKN0FOBy"
      },
      "outputs": [],
      "source": [
        "x[\"total_credit_score\"] = x['borrower_credit_score'] + x['co-borrower_credit_score']"
      ]
    },
    {
      "cell_type": "code",
      "execution_count": 51,
      "metadata": {
        "id": "4IUMLK1dFUGT"
      },
      "outputs": [],
      "source": [
        "x = x.drop(['borrower_credit_score','co-borrower_credit_score'], axis=1)"
      ]
    },
    {
      "cell_type": "code",
      "execution_count": 52,
      "metadata": {
        "id": "AFknJSkFGBxx"
      },
      "outputs": [],
      "source": [
        "repay_cols = ['m1',\n",
        "       'm2', 'm3', 'm4', 'm5', 'm6', 'm7', 'm8', 'm9', 'm10', 'm11', 'm12']"
      ]
    },
    {
      "cell_type": "code",
      "execution_count": 53,
      "metadata": {
        "id": "yCQ6uX2CGL4L"
      },
      "outputs": [],
      "source": [
        "x[\"m_mean\"] = x[repay_cols].mean(axis=1)"
      ]
    },
    {
      "cell_type": "code",
      "execution_count": 54,
      "metadata": {
        "id": "2D9IeN7cGYbN"
      },
      "outputs": [],
      "source": [
        "x[\"m_mean\"]=x[repay_cols].mean(axis=1)\n",
        "x[\"m_median\"]=x[repay_cols].median(axis=1)\n",
        "x[\"m_std\"]=x[repay_cols].std(axis=1)\n",
        "x[\"m_skew\"]=x[repay_cols].skew(axis=1)\n",
        "x[\"m_kurt\"]=x[repay_cols].kurt(axis=1)"
      ]
    },
    {
      "cell_type": "code",
      "execution_count": 55,
      "metadata": {
        "colab": {
          "base_uri": "https://localhost:8080/"
        },
        "id": "wngu73ASGkm4",
        "outputId": "ca0d625c-9ac3-421b-9f85-89525ddcb177"
      },
      "outputs": [
        {
          "data": {
            "text/plain": [
              "Index(['interest_rate', 'unpaid_principal_bal', 'loan_term', 'loan_to_value',\n",
              "       'number_of_borrowers', 'debt_to_income_ratio', 'insurance_percent',\n",
              "       'insurance_type', 'm1', 'm2', 'm3', 'm4', 'm5', 'm6', 'm7', 'm8', 'm9',\n",
              "       'm10', 'm11', 'm12', 'm13', 'source_X', 'source_Y', 'source_Z',\n",
              "       'financial_institution_Anderson-Taylor',\n",
              "       'financial_institution_Browning-Hart',\n",
              "       'financial_institution_Chapman-Mcmahon',\n",
              "       'financial_institution_Cole, Brooks and Vincent',\n",
              "       'financial_institution_Edwards-Hoffman',\n",
              "       'financial_institution_Martinez, Duffy and Bird',\n",
              "       'financial_institution_Miller, Mcclure and Allen',\n",
              "       'financial_institution_Nicholson Group', 'financial_institution_OTHER',\n",
              "       'financial_institution_Richards-Walters',\n",
              "       'financial_institution_Richardson Ltd',\n",
              "       'financial_institution_Romero, Woods and Johnson',\n",
              "       'financial_institution_Sanchez, Hays and Wilkerson',\n",
              "       'financial_institution_Sanchez-Robinson',\n",
              "       'financial_institution_Suarez Inc',\n",
              "       'financial_institution_Swanson, Newton and Miller',\n",
              "       'financial_institution_Taylor, Hunt and Rodriguez',\n",
              "       'financial_institution_Thornton-Davis',\n",
              "       'financial_institution_Turner, Baldwin and Rhodes', 'loan_purpose_A23',\n",
              "       'loan_purpose_B12', 'loan_purpose_C86', 'total_credit_score', 'm_mean',\n",
              "       'm_median', 'm_std', 'm_skew', 'm_kurt'],\n",
              "      dtype='object')"
            ]
          },
          "execution_count": 55,
          "metadata": {},
          "output_type": "execute_result"
        }
      ],
      "source": [
        "x.columns"
      ]
    },
    {
      "cell_type": "code",
      "execution_count": 56,
      "metadata": {
        "id": "Nv7QAVyXtIU-"
      },
      "outputs": [],
      "source": [
        "from sklearn.preprocessing import MinMaxScaler"
      ]
    },
    {
      "cell_type": "code",
      "execution_count": 57,
      "metadata": {
        "id": "RCb-_0t6tftO"
      },
      "outputs": [],
      "source": [
        "from sklearn.model_selection import train_test_split"
      ]
    },
    {
      "cell_type": "code",
      "execution_count": 58,
      "metadata": {
        "id": "FTbowrjQvgfm"
      },
      "outputs": [],
      "source": [
        "from sklearn.model_selection import train_test_split\n",
        "from sklearn.preprocessing import MinMaxScaler\n",
        "x_train,x_test,y_train,y_test = train_test_split(x,y,test_size=0.2,random_state=345,stratify= y )"
      ]
    },
    {
      "cell_type": "code",
      "execution_count": 59,
      "metadata": {
        "id": "MkTwQ6UKv_QW"
      },
      "outputs": [],
      "source": [
        "sc = MinMaxScaler()"
      ]
    },
    {
      "cell_type": "code",
      "execution_count": 60,
      "metadata": {
        "id": "fLtnpdh2wIZ9"
      },
      "outputs": [],
      "source": [
        "x_train=sc.fit_transform(x_train)\n",
        "x_test=sc.fit_transform(x_test)"
      ]
    },
    {
      "cell_type": "code",
      "execution_count": 62,
      "metadata": {
        "colab": {
          "base_uri": "https://localhost:8080/",
          "height": 200
        },
        "id": "Vn2BD5lHwUVx",
        "outputId": "2a81e1e4-94bc-4a0d-c9b5-ea16ae05983c"
      },
      "outputs": [
        {
          "ename": "TypeError",
          "evalue": "ignored",
          "output_type": "error",
          "traceback": [
            "\u001b[0;31m---------------------------------------------------------------------------\u001b[0m",
            "\u001b[0;31mTypeError\u001b[0m                                 Traceback (most recent call last)",
            "\u001b[0;32m<ipython-input-62-8a364b3aa629>\u001b[0m in \u001b[0;36m<cell line: 3>\u001b[0;34m()\u001b[0m\n\u001b[1;32m      1\u001b[0m \u001b[0;32mfrom\u001b[0m \u001b[0msklearn\u001b[0m\u001b[0;34m.\u001b[0m\u001b[0mlinear_model\u001b[0m \u001b[0;32mimport\u001b[0m \u001b[0mLogisticRegression\u001b[0m\u001b[0;34m\u001b[0m\u001b[0;34m\u001b[0m\u001b[0m\n\u001b[1;32m      2\u001b[0m \u001b[0mlg\u001b[0m \u001b[0;34m=\u001b[0m \u001b[0mLogisticRegression\u001b[0m\u001b[0;34m(\u001b[0m\u001b[0mmax_iter\u001b[0m\u001b[0;34m=\u001b[0m\u001b[0;36m5000\u001b[0m\u001b[0;34m)\u001b[0m\u001b[0;34m\u001b[0m\u001b[0;34m\u001b[0m\u001b[0m\n\u001b[0;32m----> 3\u001b[0;31m \u001b[0mlg\u001b[0m\u001b[0;34m.\u001b[0m\u001b[0mfit\u001b[0m\u001b[0;34m(\u001b[0m\u001b[0mx_train\u001b[0m\u001b[0;34m)\u001b[0m\u001b[0;34m\u001b[0m\u001b[0;34m\u001b[0m\u001b[0m\n\u001b[0m",
            "\u001b[0;31mTypeError\u001b[0m: LogisticRegression.fit() missing 1 required positional argument: 'y'"
          ]
        }
      ],
      "source": [
        "from sklearn.linear_model import LogisticRegression\n",
        "lg = LogisticRegression(max_iter=5000)\n",
        "lg.fit(x_train)\n"
      ]
    },
    {
      "cell_type": "code",
      "execution_count": null,
      "metadata": {
        "id": "4Xfz52Ne1dFd"
      },
      "outputs": [],
      "source": [
        "from sklearn.metrics import f1_score"
      ]
    },
    {
      "cell_type": "code",
      "execution_count": null,
      "metadata": {
        "id": "v1xLXz_42fJp"
      },
      "outputs": [],
      "source": [
        "from sklearn.neighbors import KNeighborsClassifier\n",
        "knn = KNeighborsClassifier(n_neighbors=13)\n",
        "y_pred = knn.predict(x_test)"
      ]
    },
    {
      "cell_type": "code",
      "execution_count": null,
      "metadata": {
        "id": "nIyRa5QG2zcm"
      },
      "outputs": [],
      "source": [
        "f1_score(y_test, y_pred)"
      ]
    },
    {
      "cell_type": "code",
      "execution_count": null,
      "metadata": {
        "id": "FT0sTLAMW9zY"
      },
      "outputs": [],
      "source": [
        "confusion_matrix(y_test, y_pred)"
      ]
    },
    {
      "cell_type": "code",
      "execution_count": null,
      "metadata": {
        "id": "Rf5sqgB4XCvV"
      },
      "outputs": [],
      "source": [
        "recall_score(y_test, y_pred)"
      ]
    },
    {
      "cell_type": "code",
      "execution_count": null,
      "metadata": {
        "id": "R2qiXyOfXJno"
      },
      "outputs": [],
      "source": [
        "from sklearn.tree import DecisionTreeClassifier"
      ]
    },
    {
      "cell_type": "code",
      "execution_count": null,
      "metadata": {
        "id": "4YV3nkl8XN2X"
      },
      "outputs": [],
      "source": [
        "dt = DecisionTreeClassifier(max_depth= 8)"
      ]
    },
    {
      "cell_type": "code",
      "execution_count": null,
      "metadata": {
        "id": "i4FoY_3NXRIX"
      },
      "outputs": [],
      "source": [
        "y_pred = dt.predict(x_test)"
      ]
    },
    {
      "cell_type": "code",
      "execution_count": null,
      "metadata": {
        "id": "UFAzUpBjXU96"
      },
      "outputs": [],
      "source": [
        "f1_score(y_test, y_pred)"
      ]
    }
  ],
  "metadata": {
    "colab": {
      "provenance": []
    },
    "kernelspec": {
      "display_name": "Python 3",
      "name": "python3"
    },
    "language_info": {
      "name": "python"
    }
  },
  "nbformat": 4,
  "nbformat_minor": 0
}
